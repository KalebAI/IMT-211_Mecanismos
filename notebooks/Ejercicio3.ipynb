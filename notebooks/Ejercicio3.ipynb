{
 "cells": [
  {
   "cell_type": "markdown",
   "id": "12b36c8b",
   "metadata": {},
   "source": [
    "# IMT‑211 · Análisis Cinemático de Mecanismos compuesto por dos mecanismos de 4 Barras"
   ]
  },
  {
   "cell_type": "markdown",
   "id": "6c482691",
   "metadata": {},
   "source": [
    "## Importación de librerias"
   ]
  },
  {
   "cell_type": "code",
   "execution_count": 1,
   "id": "031b8abe",
   "metadata": {},
   "outputs": [],
   "source": [
    "import math\n",
    "import numpy as np\n",
    "import sympy as sp\n",
    "from IPython.display import Math, display\n",
    "import matplotlib.pyplot as plt\n",
    "from matplotlib.animation import FuncAnimation"
   ]
  },
  {
   "cell_type": "markdown",
   "id": "ee8be96c",
   "metadata": {},
   "source": [
    "\n",
    "## 1) Definición del mecanismo y del perfil de entrada\n",
    "\n",
    "### Eslabones:\n",
    "- `L0`: **Bancada**\n",
    "- `L1`: **Biela**\n",
    "- `L2`: **Acoplador**\n",
    "- `L3`: **Brazo balancín**\n",
    "\n",
    "### Juntas:\n",
    "- `O_1`: **L0,R,L1**\n",
    "- `A`:  **L1,R,L2**\n",
    "- `B`:  **L2,R,L3**\n",
    "- `O_4`: **L0,R,L3**\n",
    "\n",
    "### Punto de Interés:\n",
    "- `Y`: **Extremo del brazo del balancín**\n",
    "\n",
    "\n"
   ]
  },
  {
   "cell_type": "markdown",
   "id": "f9cd84e4",
   "metadata": {},
   "source": [
    "### Datos de entrada:"
   ]
  },
  {
   "cell_type": "code",
   "execution_count": 2,
   "id": "fd02e754",
   "metadata": {},
   "outputs": [],
   "source": [
    "# --- Longitudes de eslabones (unidades arbitrarias, p. ej., mm) ---\n",
    "l0x = 37  # logitud en x de bancada\n",
    "l0y = -20\n",
    "l1 = 10\n",
    "l2 = 40\n",
    "l3 = 30\n",
    "l4 = 32\n",
    "l5 = 65\n",
    "l6y = 30\n",
    "l7 = 60\n",
    "\n",
    "# constantes:\n",
    "gamma = sp.acos((l3**2 + l7**2 - l4**2)/(2*l3*l7))"
   ]
  },
  {
   "cell_type": "markdown",
   "id": "3c3af130",
   "metadata": {},
   "source": [
    "### Vectores posición"
   ]
  },
  {
   "cell_type": "code",
   "execution_count": 3,
   "id": "ee4d35b1",
   "metadata": {},
   "outputs": [
    {
     "name": "stdout",
     "output_type": "stream",
     "text": [
      "Vectores de posición relativa:\n",
      "Ra:\n"
     ]
    },
    {
     "data": {
      "text/latex": [
       "$\\displaystyle \\left[\\begin{matrix}10 \\cos{\\left(\\theta_{1} \\right)}\\\\10 \\sin{\\left(\\theta_{1} \\right)}\\\\0\\end{matrix}\\right]$"
      ],
      "text/plain": [
       "<IPython.core.display.Math object>"
      ]
     },
     "metadata": {},
     "output_type": "display_data"
    },
    {
     "name": "stdout",
     "output_type": "stream",
     "text": [
      "Rab:\n"
     ]
    },
    {
     "data": {
      "text/latex": [
       "$\\displaystyle \\left[\\begin{matrix}40 \\cos{\\left(\\theta_{2} \\right)}\\\\40 \\sin{\\left(\\theta_{2} \\right)}\\\\0\\end{matrix}\\right]$"
      ],
      "text/plain": [
       "<IPython.core.display.Math object>"
      ]
     },
     "metadata": {},
     "output_type": "display_data"
    },
    {
     "name": "stdout",
     "output_type": "stream",
     "text": [
      "Ro4b:\n"
     ]
    },
    {
     "data": {
      "text/latex": [
       "$\\displaystyle \\left[\\begin{matrix}30 \\cos{\\left(\\theta_{3} \\right)}\\\\30 \\sin{\\left(\\theta_{3} \\right)}\\\\0\\end{matrix}\\right]$"
      ],
      "text/plain": [
       "<IPython.core.display.Math object>"
      ]
     },
     "metadata": {},
     "output_type": "display_data"
    },
    {
     "name": "stdout",
     "output_type": "stream",
     "text": [
      "Rcd:\n"
     ]
    },
    {
     "data": {
      "text/latex": [
       "$\\displaystyle \\left[\\begin{matrix}65 \\cos{\\left(\\theta_{5} \\right)}\\\\65 \\sin{\\left(\\theta_{5} \\right)}\\\\0\\end{matrix}\\right]$"
      ],
      "text/plain": [
       "<IPython.core.display.Math object>"
      ]
     },
     "metadata": {},
     "output_type": "display_data"
    },
    {
     "name": "stdout",
     "output_type": "stream",
     "text": [
      "Ro4c:\n"
     ]
    },
    {
     "data": {
      "text/latex": [
       "$\\displaystyle \\left[\\begin{matrix}60 \\cos{\\left(\\theta_{7} \\right)}\\\\60 \\sin{\\left(\\theta_{7} \\right)}\\\\0\\end{matrix}\\right]$"
      ],
      "text/plain": [
       "<IPython.core.display.Math object>"
      ]
     },
     "metadata": {},
     "output_type": "display_data"
    },
    {
     "data": {
      "text/latex": [
       "$\\displaystyle \\left[\\begin{matrix}l_{6x}\\\\30\\\\0\\end{matrix}\\right]$"
      ],
      "text/plain": [
       "Matrix([\n",
       "[l_6x],\n",
       "[  30],\n",
       "[   0]])"
      ]
     },
     "execution_count": 3,
     "metadata": {},
     "output_type": "execute_result"
    }
   ],
   "source": [
    "# --- Crear las variables angulares ---\n",
    "th1 = sp.symbols('theta_1')\n",
    "th2 = sp.symbols('theta_2')\n",
    "th3 = sp.symbols('theta_3')\n",
    "th4 = sp.symbols('theta_4')\n",
    "th5 = sp.symbols('theta_5')\n",
    "th7 = sp.symbols('theta_7')\n",
    "\n",
    "# --- Crear variable lineal ---\n",
    "l6x = sp.symbols('l_6x')\n",
    "\n",
    "# --- definir mis verctores ---\n",
    "## primera cadena cinemática\n",
    "Ro4 = sp.Matrix([[l0x],\n",
    "                [l0y],\n",
    "                [0]])\n",
    "\n",
    "Ra = sp.Matrix([[l1*sp.cos(th1)],\n",
    "                [l1*sp.sin(th1)],\n",
    "                [0]])\n",
    "\n",
    "Rab = sp.Matrix([[l2*sp.cos(th2)],\n",
    "                 [l2*sp.sin(th2)],\n",
    "                 [0]])\n",
    "\n",
    "Ro4b = sp.Matrix([[l3*sp.cos(th3)],\n",
    "                  [l3*sp.sin(th3)],\n",
    "                  [0]])\n",
    "\n",
    "Rb = Ra + Rab\n",
    "\n",
    "## segunda cadena cinemática\n",
    "Ro4c = sp.Matrix([[l7*sp.cos(th7)],\n",
    "                  [l7*sp.sin(th7)],\n",
    "                  [0]])\n",
    "\n",
    "Rcd = sp.Matrix([[l5*sp.cos(th5)],\n",
    "                 [l5*sp.sin(th5)],\n",
    "                 [0]])\n",
    "\n",
    "Rd = sp.Matrix([[l6x],\n",
    "               [l6y],\n",
    "               [0]])\n",
    "\n",
    "\n",
    "print(\"Vectores de posición relativa:\")\n",
    "print(\"Ra:\")\n",
    "display(Math(sp.latex(Ra)))\n",
    "print(\"Rab:\")\n",
    "display(Math(sp.latex(Rab)))\n",
    "print(\"Ro4b:\")\n",
    "display(Math(sp.latex(Ro4b)))\n",
    "print(\"Rcd:\")\n",
    "display(Math(sp.latex(Rcd)))\n",
    "print(\"Ro4c:\")\n",
    "display(Math(sp.latex(Ro4c)))\n",
    "Rd"
   ]
  },
  {
   "cell_type": "markdown",
   "id": "4f843203",
   "metadata": {},
   "source": [
    "### Vectores Velocidad"
   ]
  },
  {
   "cell_type": "code",
   "execution_count": 4,
   "id": "febb5805",
   "metadata": {},
   "outputs": [
    {
     "name": "stdout",
     "output_type": "stream",
     "text": [
      "Vectores de velocidad relativa:\n",
      "Va:\n"
     ]
    },
    {
     "data": {
      "text/latex": [
       "$\\displaystyle \\left[\\begin{matrix}- 10 \\omega_{1} \\sin{\\left(\\theta_{1} \\right)}\\\\10 \\omega_{1} \\cos{\\left(\\theta_{1} \\right)}\\\\0\\end{matrix}\\right]$"
      ],
      "text/plain": [
       "<IPython.core.display.Math object>"
      ]
     },
     "metadata": {},
     "output_type": "display_data"
    },
    {
     "name": "stdout",
     "output_type": "stream",
     "text": [
      "Vab:\n"
     ]
    },
    {
     "data": {
      "text/latex": [
       "$\\displaystyle \\left[\\begin{matrix}- 40 \\omega_{2} \\sin{\\left(\\theta_{2} \\right)}\\\\40 \\omega_{2} \\cos{\\left(\\theta_{2} \\right)}\\\\0\\end{matrix}\\right]$"
      ],
      "text/plain": [
       "<IPython.core.display.Math object>"
      ]
     },
     "metadata": {},
     "output_type": "display_data"
    },
    {
     "name": "stdout",
     "output_type": "stream",
     "text": [
      "Vo4b:\n"
     ]
    },
    {
     "data": {
      "text/latex": [
       "$\\displaystyle \\left[\\begin{matrix}- 30 \\omega_{3} \\sin{\\left(\\theta_{3} \\right)}\\\\30 \\omega_{3} \\cos{\\left(\\theta_{3} \\right)}\\\\0\\end{matrix}\\right]$"
      ],
      "text/plain": [
       "<IPython.core.display.Math object>"
      ]
     },
     "metadata": {},
     "output_type": "display_data"
    },
    {
     "name": "stdout",
     "output_type": "stream",
     "text": [
      "Vcd:\n"
     ]
    },
    {
     "data": {
      "text/latex": [
       "$\\displaystyle \\left[\\begin{matrix}- 65 \\omega_{5} \\sin{\\left(\\theta_{5} \\right)}\\\\65 \\omega_{5} \\cos{\\left(\\theta_{5} \\right)}\\\\0\\end{matrix}\\right]$"
      ],
      "text/plain": [
       "<IPython.core.display.Math object>"
      ]
     },
     "metadata": {},
     "output_type": "display_data"
    },
    {
     "name": "stdout",
     "output_type": "stream",
     "text": [
      "Vo4c:\n"
     ]
    },
    {
     "data": {
      "text/latex": [
       "$\\displaystyle \\left[\\begin{matrix}- 60 \\omega_{7} \\sin{\\left(\\theta_{7} \\right)}\\\\60 \\omega_{7} \\cos{\\left(\\theta_{7} \\right)}\\\\0\\end{matrix}\\right]$"
      ],
      "text/plain": [
       "<IPython.core.display.Math object>"
      ]
     },
     "metadata": {},
     "output_type": "display_data"
    },
    {
     "name": "stdout",
     "output_type": "stream",
     "text": [
      "Vd:\n"
     ]
    },
    {
     "data": {
      "text/latex": [
       "$\\displaystyle \\left[\\begin{matrix}v_{dx}\\\\0\\\\0\\end{matrix}\\right]$"
      ],
      "text/plain": [
       "<IPython.core.display.Math object>"
      ]
     },
     "metadata": {},
     "output_type": "display_data"
    }
   ],
   "source": [
    "# --- Crear las variables de velocidades angulares ---\n",
    "w1 = sp.symbols('omega_1')\n",
    "w2 = sp.symbols('omega_2')\n",
    "w3 = sp.symbols('omega_3')\n",
    "w5 = sp.symbols('omega_5')\n",
    "w7 = sp.symbols('omega_7')\n",
    "\n",
    "# --- Crear las variables de velocidades lineal ---\n",
    "vdx = sp.symbols('v_dx')\n",
    "\n",
    "# --- Crear los Vectores de velocidad --- (para angulares y escalares)\n",
    "W1 = sp.Matrix([[0],\n",
    "                [0],\n",
    "                [w1]])\n",
    "\n",
    "W2 = sp.Matrix([[0],\n",
    "                [0],\n",
    "                [w2]])\n",
    "\n",
    "W3 = sp.Matrix([[0],\n",
    "                [0],\n",
    "                [w3]])\n",
    "\n",
    "W5 = sp.Matrix([[0],\n",
    "                [0],\n",
    "                [w5]])\n",
    "\n",
    "W7 = sp.Matrix([[0],\n",
    "                [0],\n",
    "                [w7]])\n",
    "\n",
    "## primera cadena cinemática\n",
    "Va = W1.cross(Ra)\n",
    "\n",
    "Vab = W2.cross(Rab)\n",
    "\n",
    "Vo4b = W3.cross(Ro4b)\n",
    "\n",
    "Vb = Va + Vab\n",
    "# Vb = Vo4b = W3.cross(Ro4b) ## otra forma de obtener Vb\n",
    "\n",
    "## segunda cadena cinemática\n",
    "Vo4c = W7.cross(Ro4c)\n",
    "\n",
    "Vcd = W5.cross(Rcd)\n",
    "\n",
    "Vd = sp.Matrix([[vdx],\n",
    "                [0],\n",
    "                [0]])\n",
    "\n",
    "print(\"Vectores de velocidad relativa:\")\n",
    "print(\"Va:\")\n",
    "display(Math(sp.latex(Va)))\n",
    "print(\"Vab:\")\n",
    "display(Math(sp.latex(Vab)))\n",
    "print(\"Vo4b:\")\n",
    "display(Math(sp.latex(Vo4b)))\n",
    "print(\"Vcd:\")\n",
    "display(Math(sp.latex(Vcd)))\n",
    "print(\"Vo4c:\")\n",
    "display(Math(sp.latex(Vo4c)))\n",
    "print(\"Vd:\")\n",
    "display(Math(sp.latex(Vd)))"
   ]
  },
  {
   "cell_type": "markdown",
   "id": "823319c8",
   "metadata": {},
   "source": [
    "### Vectores Aceleración"
   ]
  },
  {
   "cell_type": "code",
   "execution_count": 5,
   "id": "5597c808",
   "metadata": {},
   "outputs": [
    {
     "name": "stdout",
     "output_type": "stream",
     "text": [
      "Vectores de aceleración relativa:\n",
      "Aa:\n"
     ]
    },
    {
     "data": {
      "text/latex": [
       "$\\displaystyle \\left[\\begin{matrix}- 10 \\alpha_{1} \\sin{\\left(\\theta_{1} \\right)} - 10 \\omega_{1} \\cos{\\left(\\theta_{1} \\right)}\\\\10 \\alpha_{1} \\cos{\\left(\\theta_{1} \\right)} - 10 \\omega_{1} \\sin{\\left(\\theta_{1} \\right)}\\\\0\\end{matrix}\\right]$"
      ],
      "text/plain": [
       "<IPython.core.display.Math object>"
      ]
     },
     "metadata": {},
     "output_type": "display_data"
    },
    {
     "name": "stdout",
     "output_type": "stream",
     "text": [
      "Aab:\n"
     ]
    },
    {
     "data": {
      "text/latex": [
       "$\\displaystyle \\left[\\begin{matrix}- 40 \\alpha_{2} \\sin{\\left(\\theta_{2} \\right)} - 40 \\omega_{2} \\cos{\\left(\\theta_{2} \\right)}\\\\40 \\alpha_{2} \\cos{\\left(\\theta_{2} \\right)} - 40 \\omega_{2} \\sin{\\left(\\theta_{2} \\right)}\\\\0\\end{matrix}\\right]$"
      ],
      "text/plain": [
       "<IPython.core.display.Math object>"
      ]
     },
     "metadata": {},
     "output_type": "display_data"
    },
    {
     "name": "stdout",
     "output_type": "stream",
     "text": [
      "Ao4b:\n"
     ]
    },
    {
     "data": {
      "text/latex": [
       "$\\displaystyle \\left[\\begin{matrix}- 30 \\alpha_{3} \\sin{\\left(\\theta_{3} \\right)} - 30 \\omega_{3} \\cos{\\left(\\theta_{3} \\right)}\\\\30 \\alpha_{3} \\cos{\\left(\\theta_{3} \\right)} - 30 \\omega_{3} \\sin{\\left(\\theta_{3} \\right)}\\\\0\\end{matrix}\\right]$"
      ],
      "text/plain": [
       "<IPython.core.display.Math object>"
      ]
     },
     "metadata": {},
     "output_type": "display_data"
    },
    {
     "name": "stdout",
     "output_type": "stream",
     "text": [
      "Ao4c:\n"
     ]
    },
    {
     "data": {
      "text/latex": [
       "$\\displaystyle \\left[\\begin{matrix}- 60 \\alpha_{7} \\sin{\\left(\\theta_{7} \\right)} - 60 \\omega_{7} \\cos{\\left(\\theta_{7} \\right)}\\\\60 \\alpha_{7} \\cos{\\left(\\theta_{7} \\right)} - 60 \\omega_{7} \\sin{\\left(\\theta_{7} \\right)}\\\\0\\end{matrix}\\right]$"
      ],
      "text/plain": [
       "<IPython.core.display.Math object>"
      ]
     },
     "metadata": {},
     "output_type": "display_data"
    },
    {
     "name": "stdout",
     "output_type": "stream",
     "text": [
      "Acd:\n"
     ]
    },
    {
     "data": {
      "text/latex": [
       "$\\displaystyle \\left[\\begin{matrix}- 65 \\alpha_{5} \\sin{\\left(\\theta_{5} \\right)} - 65 \\omega_{5} \\cos{\\left(\\theta_{5} \\right)}\\\\65 \\alpha_{5} \\cos{\\left(\\theta_{5} \\right)} - 65 \\omega_{5} \\sin{\\left(\\theta_{5} \\right)}\\\\0\\end{matrix}\\right]$"
      ],
      "text/plain": [
       "<IPython.core.display.Math object>"
      ]
     },
     "metadata": {},
     "output_type": "display_data"
    },
    {
     "name": "stdout",
     "output_type": "stream",
     "text": [
      "Ad:\n"
     ]
    },
    {
     "data": {
      "text/latex": [
       "$\\displaystyle \\left[\\begin{matrix}a_{dx}\\\\0\\\\0\\end{matrix}\\right]$"
      ],
      "text/plain": [
       "<IPython.core.display.Math object>"
      ]
     },
     "metadata": {},
     "output_type": "display_data"
    }
   ],
   "source": [
    "# --- Crear las variables de aceleraciones angulares ---\n",
    "a1 = sp.symbols('alpha_1')\n",
    "a2 = sp.symbols('alpha_2')\n",
    "a3 = sp.symbols('alpha_3')\n",
    "a5 = sp.symbols('alpha_5')\n",
    "a7 = sp.symbols('alpha_7')\n",
    "\n",
    "# --- Crear las variables de aceleraciones lineal ---\n",
    "adx = sp.symbols('a_dx')\n",
    "\n",
    "# --- Crear los Vectores de Aceleración --- (para angulares y escalares)\n",
    "A1 = sp.Matrix([[0],\n",
    "                [0],\n",
    "                [a1]])\n",
    "\n",
    "A2 = sp.Matrix([[0],\n",
    "                [0],\n",
    "                [a2]])\n",
    "\n",
    "A3 = sp.Matrix([[0],\n",
    "                [0],\n",
    "                [a3]])\n",
    "\n",
    "A5 = sp.Matrix([[0],\n",
    "                [0],\n",
    "                [a5]])\n",
    "\n",
    "A7 = sp.Matrix([[0],\n",
    "                [0],\n",
    "                [a7]])\n",
    "\n",
    "## primera cadena cinemática\n",
    "Aa_T = A1.cross(Ra)\n",
    "Aa_N = -w1*Ra\n",
    "Aa = Aa_T + Aa_N # + Aa_C ## -> la aceleración de Coriolis/ movimiento linean y rotacional\n",
    "\n",
    "Aab_T = A2.cross(Rab)\n",
    "Aab_N = -w2*Rab\n",
    "Aab = Aab_T + Aab_N\n",
    "\n",
    "Ab = Aa + Aab\n",
    "\n",
    "Ao4b_T = A3.cross(Ro4b)\n",
    "Ao4b_N = -w3*Ro4b\n",
    "Ao4b = Ao4b_T + Ao4b_N\n",
    "\n",
    "#Ab = Ao4b = Ao4b_T + Ao4b_N ## otra forma de obtener la aceleración en B\n",
    "\n",
    "## segunda cadena cinemática\n",
    "Ao4c_T = A7.cross(Ro4c)\n",
    "Ao4c_N = -w7*Ro4c\n",
    "Ao4c = Ao4c_T + Ao4c_N\n",
    "\n",
    "Acd_T = A5.cross(Rcd)\n",
    "Acd_N = -w5*Rcd\n",
    "Acd = Acd_T + Acd_N\n",
    "\n",
    "Ad = sp.Matrix([[adx],\n",
    "                [0],\n",
    "                [0]])\n",
    "\n",
    "\n",
    "print(\"Vectores de aceleración relativa:\")\n",
    "print(\"Aa:\")\n",
    "display(Math(sp.latex(Aa)))\n",
    "print(\"Aab:\")\n",
    "display(Math(sp.latex(Aab)))\n",
    "print(\"Ao4b:\")\n",
    "display(Math(sp.latex(Ao4b)))\n",
    "print(\"Ao4c:\")\n",
    "display(Math(sp.latex(Ao4c)))\n",
    "print(\"Acd:\")\n",
    "display(Math(sp.latex(Acd)))\n",
    "print(\"Ad:\")\n",
    "display(Math(sp.latex(Ad)))"
   ]
  },
  {
   "cell_type": "markdown",
   "id": "54fe7fd3",
   "metadata": {},
   "source": [
    "## 2) Escribir el modelo matemático"
   ]
  },
  {
   "cell_type": "code",
   "execution_count": 6,
   "id": "98a2d15c",
   "metadata": {},
   "outputs": [
    {
     "name": "stdout",
     "output_type": "stream",
     "text": [
      "\n",
      " Modelo de posición:\n"
     ]
    },
    {
     "data": {
      "text/latex": [
       "$\\displaystyle \\left[ \\left[\\begin{matrix}10 \\cos{\\left(\\theta_{1} \\right)} + 40 \\cos{\\left(\\theta_{2} \\right)}\\\\10 \\sin{\\left(\\theta_{1} \\right)} + 40 \\sin{\\left(\\theta_{2} \\right)}\\\\0\\end{matrix}\\right] = \\left[\\begin{matrix}30 \\cos{\\left(\\theta_{3} \\right)} + 37\\\\30 \\sin{\\left(\\theta_{3} \\right)} - 20\\\\0\\end{matrix}\\right], \\  \\left[\\begin{matrix}l_{6x}\\\\30\\\\0\\end{matrix}\\right] = \\left[\\begin{matrix}65 \\cos{\\left(\\theta_{5} \\right)} + 60 \\cos{\\left(\\theta_{7} \\right)} + 37\\\\65 \\sin{\\left(\\theta_{5} \\right)} + 60 \\sin{\\left(\\theta_{7} \\right)} - 20\\\\0\\end{matrix}\\right], \\  \\theta_{7} = \\theta_{3} + 0.263226205669044\\right]$"
      ],
      "text/plain": [
       "<IPython.core.display.Math object>"
      ]
     },
     "metadata": {},
     "output_type": "display_data"
    },
    {
     "name": "stdout",
     "output_type": "stream",
     "text": [
      "\n",
      " Modelo de velocidad:\n"
     ]
    },
    {
     "data": {
      "text/latex": [
       "$\\displaystyle \\left[ \\left[\\begin{matrix}- 10 \\omega_{1} \\sin{\\left(\\theta_{1} \\right)} - 40 \\omega_{2} \\sin{\\left(\\theta_{2} \\right)}\\\\10 \\omega_{1} \\cos{\\left(\\theta_{1} \\right)} + 40 \\omega_{2} \\cos{\\left(\\theta_{2} \\right)}\\\\0\\end{matrix}\\right] = \\left[\\begin{matrix}- 30 \\omega_{3} \\sin{\\left(\\theta_{3} \\right)}\\\\30 \\omega_{3} \\cos{\\left(\\theta_{3} \\right)}\\\\0\\end{matrix}\\right], \\  \\left[\\begin{matrix}v_{dx}\\\\0\\\\0\\end{matrix}\\right] = \\left[\\begin{matrix}- 65 \\omega_{5} \\sin{\\left(\\theta_{5} \\right)} - 60 \\omega_{7} \\sin{\\left(\\theta_{7} \\right)}\\\\65 \\omega_{5} \\cos{\\left(\\theta_{5} \\right)} + 60 \\omega_{7} \\cos{\\left(\\theta_{7} \\right)}\\\\0\\end{matrix}\\right], \\  \\omega_{7} = \\omega_{3}\\right]$"
      ],
      "text/plain": [
       "<IPython.core.display.Math object>"
      ]
     },
     "metadata": {},
     "output_type": "display_data"
    },
    {
     "name": "stdout",
     "output_type": "stream",
     "text": [
      "\n",
      " Modelo de aceleración:\n"
     ]
    },
    {
     "data": {
      "text/latex": [
       "$\\displaystyle \\left[ \\left[\\begin{matrix}- 10 \\alpha_{1} \\sin{\\left(\\theta_{1} \\right)} - 40 \\alpha_{2} \\sin{\\left(\\theta_{2} \\right)} - 10 \\omega_{1} \\cos{\\left(\\theta_{1} \\right)} - 40 \\omega_{2} \\cos{\\left(\\theta_{2} \\right)}\\\\10 \\alpha_{1} \\cos{\\left(\\theta_{1} \\right)} + 40 \\alpha_{2} \\cos{\\left(\\theta_{2} \\right)} - 10 \\omega_{1} \\sin{\\left(\\theta_{1} \\right)} - 40 \\omega_{2} \\sin{\\left(\\theta_{2} \\right)}\\\\0\\end{matrix}\\right] = \\left[\\begin{matrix}- 30 \\alpha_{3} \\sin{\\left(\\theta_{3} \\right)} - 30 \\omega_{3} \\cos{\\left(\\theta_{3} \\right)}\\\\30 \\alpha_{3} \\cos{\\left(\\theta_{3} \\right)} - 30 \\omega_{3} \\sin{\\left(\\theta_{3} \\right)}\\\\0\\end{matrix}\\right], \\  \\left[\\begin{matrix}a_{dx}\\\\0\\\\0\\end{matrix}\\right] = \\left[\\begin{matrix}- 65 \\alpha_{5} \\sin{\\left(\\theta_{5} \\right)} - 60 \\alpha_{7} \\sin{\\left(\\theta_{7} \\right)} - 65 \\omega_{5} \\cos{\\left(\\theta_{5} \\right)} - 60 \\omega_{7} \\cos{\\left(\\theta_{7} \\right)}\\\\65 \\alpha_{5} \\cos{\\left(\\theta_{5} \\right)} + 60 \\alpha_{7} \\cos{\\left(\\theta_{7} \\right)} - 65 \\omega_{5} \\sin{\\left(\\theta_{5} \\right)} - 60 \\omega_{7} \\sin{\\left(\\theta_{7} \\right)}\\\\0\\end{matrix}\\right], \\  \\alpha_{7} = \\alpha_{3}\\right]$"
      ],
      "text/plain": [
       "<IPython.core.display.Math object>"
      ]
     },
     "metadata": {},
     "output_type": "display_data"
    }
   ],
   "source": [
    "# Construir ecuaciones de posición\n",
    "Q1 = sp.Eq(Ra + Rab, Ro4 + Ro4b)\n",
    "Q2 = sp.Eq(Rd, Ro4 + Ro4c + Rcd)\n",
    "Q3 = sp.Eq(th7, gamma + th3)\n",
    "\n",
    "Q = [Q1, Q2, Q3]\n",
    "\n",
    "# Construir mis ecuaciones de velocidad\n",
    "dQ1 = sp.Eq(Va + Vab, Vo4b)\n",
    "dQ2 = sp.Eq(Vd, Vo4c + Vcd)\n",
    "dQ3 = sp.Eq(w7, w3)\n",
    "\n",
    "dQ = [dQ1, dQ2, dQ3]\n",
    "\n",
    "# Construir mis ecuaciones de aceleración\n",
    "ddQ1 = sp.Eq(Aa + Aab, Ao4b)\n",
    "ddQ2 = sp.Eq(Ad, Ao4c + Acd)\n",
    "ddQ3 = sp.Eq(a7, a3)\n",
    "\n",
    "ddQ = [ddQ1, ddQ2, ddQ3]\n",
    "\n",
    "print(\"\\n Modelo de posición:\")\n",
    "display(Math(sp.latex(Q)))\n",
    "print(\"\\n Modelo de velocidad:\")\n",
    "display(Math(sp.latex(dQ)))\n",
    "print(\"\\n Modelo de aceleración:\")\n",
    "display(Math(sp.latex(ddQ)))\n"
   ]
  },
  {
   "cell_type": "markdown",
   "id": "47019982",
   "metadata": {},
   "source": [
    "## 3) Resolución del modelo\n",
    "Para un instante determinado, un parámetro de entrada."
   ]
  },
  {
   "cell_type": "markdown",
   "id": "2e9560c9",
   "metadata": {},
   "source": [
    "### Modelo de posición"
   ]
  },
  {
   "cell_type": "code",
   "execution_count": 7,
   "id": "47971030",
   "metadata": {},
   "outputs": [
    {
     "name": "stdout",
     "output_type": "stream",
     "text": [
      "Modelo evaluado:\n"
     ]
    },
    {
     "data": {
      "text/latex": [
       "$\\displaystyle \\left[ \\left[\\begin{matrix}40 \\cos{\\left(\\theta_{2} \\right)} + 5 \\sqrt{3}\\\\40 \\sin{\\left(\\theta_{2} \\right)} + 5\\\\0\\end{matrix}\\right] = \\left[\\begin{matrix}30 \\cos{\\left(\\theta_{3} \\right)} + 37\\\\30 \\sin{\\left(\\theta_{3} \\right)} - 20\\\\0\\end{matrix}\\right], \\  \\left[\\begin{matrix}l_{6x}\\\\30\\\\0\\end{matrix}\\right] = \\left[\\begin{matrix}65 \\cos{\\left(\\theta_{5} \\right)} + 60 \\cos{\\left(\\theta_{7} \\right)} + 37\\\\65 \\sin{\\left(\\theta_{5} \\right)} + 60 \\sin{\\left(\\theta_{7} \\right)} - 20\\\\0\\end{matrix}\\right], \\  \\theta_{7} = \\theta_{3} + 0.263226205669044\\right]$"
      ],
      "text/plain": [
       "<IPython.core.display.Math object>"
      ]
     },
     "metadata": {},
     "output_type": "display_data"
    },
    {
     "name": "stdout",
     "output_type": "stream",
     "text": [
      "Soluciones posibles para Q1:\n"
     ]
    },
    {
     "data": {
      "text/latex": [
       "$\\displaystyle \\left[ \\left( - \\operatorname{asin}{\\left(\\frac{3 \\sin{\\left(2 \\operatorname{atan}{\\left(\\frac{1500 - \\sqrt{5163539 - 318940 \\sqrt{3}}}{70 \\sqrt{3} + 851} \\right)} \\right)}}{4} + \\frac{5}{8} \\right)}, \\  2 \\operatorname{atan}{\\left(\\frac{-1500 + \\sqrt{5163539 - 318940 \\sqrt{3}}}{70 \\sqrt{3} + 851} \\right)}\\right), \\  \\left( - \\operatorname{asin}{\\left(\\frac{3 \\sin{\\left(2 \\operatorname{atan}{\\left(\\frac{1500 + \\sqrt{5163539 - 318940 \\sqrt{3}}}{70 \\sqrt{3} + 851} \\right)} \\right)}}{4} + \\frac{5}{8} \\right)}, \\  - 2 \\operatorname{atan}{\\left(\\frac{1500 + \\sqrt{5163539 - 318940 \\sqrt{3}}}{70 \\sqrt{3} + 851} \\right)}\\right)\\right]$"
      ],
      "text/plain": [
       "<IPython.core.display.Math object>"
      ]
     },
     "metadata": {},
     "output_type": "display_data"
    },
    {
     "name": "stdout",
     "output_type": "stream",
     "text": [
      "Soluciones posibles para Q2:\n"
     ]
    },
    {
     "data": {
      "text/latex": [
       "$\\displaystyle \\left[ \\left( 3.2878417014484, \\  -19.3662558240164\\right), \\  \\left( -0.14624904785861, \\  109.245949467067\\right)\\right]$"
      ],
      "text/plain": [
       "<IPython.core.display.Math object>"
      ]
     },
     "metadata": {},
     "output_type": "display_data"
    },
    {
     "name": "stdout",
     "output_type": "stream",
     "text": [
      "theta1: 0.523598775598299\n"
     ]
    },
    {
     "data": {
      "text/latex": [
       "$\\displaystyle 30.0$"
      ],
      "text/plain": [
       "30.000"
      ]
     },
     "metadata": {},
     "output_type": "display_data"
    },
    {
     "name": "stdout",
     "output_type": "stream",
     "text": [
      "theta2: 0.0670241817652055\n"
     ]
    },
    {
     "data": {
      "text/latex": [
       "$\\displaystyle 3.8402$"
      ],
      "text/plain": [
       "3.8402"
      ]
     },
     "metadata": {},
     "output_type": "display_data"
    },
    {
     "name": "stdout",
     "output_type": "stream",
     "text": [
      "theta3: 1.17485004822865\n"
     ]
    },
    {
     "data": {
      "text/latex": [
       "$\\displaystyle 67.314$"
      ],
      "text/plain": [
       "67.314"
      ]
     },
     "metadata": {},
     "output_type": "display_data"
    },
    {
     "name": "stdout",
     "output_type": "stream",
     "text": [
      "theta5: -0.146249047858610\n"
     ]
    },
    {
     "data": {
      "text/latex": [
       "$\\displaystyle -8.3795$"
      ],
      "text/plain": [
       "-8.3795"
      ]
     },
     "metadata": {},
     "output_type": "display_data"
    },
    {
     "name": "stdout",
     "output_type": "stream",
     "text": [
      "theta7: 1.43807625389769\n"
     ]
    },
    {
     "data": {
      "text/latex": [
       "$\\displaystyle 82.396$"
      ],
      "text/plain": [
       "82.396"
      ]
     },
     "metadata": {},
     "output_type": "display_data"
    },
    {
     "name": "stdout",
     "output_type": "stream",
     "text": [
      "l6x: 109.245949467067\n"
     ]
    },
    {
     "data": {
      "text/latex": [
       "$\\displaystyle 109.25$"
      ],
      "text/plain": [
       "109.25"
      ]
     },
     "metadata": {},
     "output_type": "display_data"
    }
   ],
   "source": [
    "# dato de entrada\n",
    "theta1 = sp.rad(30)\n",
    "\n",
    "valores = {th1: theta1}\n",
    "\n",
    "# evaluación del dato de entrada\n",
    "Q_eval = Q\n",
    "Q_eval[0] = Q[0].evalf(subs=valores)\n",
    "print(\"Modelo evaluado:\")\n",
    "display(Math(sp.latex(Q_eval)))\n",
    "\n",
    "# soluciones secuenciales\n",
    "## primer sistema\n",
    "sol = sp.solve(Q_eval[0], [th2, th3])\n",
    "print(\"Soluciones posibles para Q1:\")\n",
    "display(Math(sp.latex(sol)))\n",
    "\n",
    "# selección de soluciones para Q1\n",
    "theta2 = sol[0][0]\n",
    "theta3 = sol[0][1]\n",
    "\n",
    "# tercer sistema\n",
    "valores = {th1: theta1,\n",
    "           th2: theta2,\n",
    "           th3: theta3}\n",
    "\n",
    "Q_eval[2] = Q[2].evalf(subs=valores)\n",
    "sol = sp.solve(Q_eval[2], [th7])\n",
    "\n",
    "theta7 = sol[0]\n",
    "\n",
    "# segundo sistema\n",
    "valores = {th1: theta1,\n",
    "           th2: theta2,\n",
    "           th3: theta3,\n",
    "           th7: theta7}\n",
    "\n",
    "Q_eval[1] = Q[1].evalf(subs=valores)\n",
    "sol = sp.solve(Q_eval[1], [th5, l6x])\n",
    "print(\"Soluciones posibles para Q2:\")\n",
    "display(Math(sp.latex(sol)))\n",
    "\n",
    "# selección de soluciones para Q2\n",
    "theta5 = sol[1][0]\n",
    "l6x_eval = sol[1][1]\n",
    "\n",
    "# Mostrar resultados\n",
    "print(\"theta1:\", theta1.evalf())\n",
    "display(sp.N(sp.deg(theta1), 5))\n",
    "print(\"theta2:\", theta2.evalf())\n",
    "display(sp.N(sp.deg(theta2), 5))\n",
    "print(\"theta3:\", theta3.evalf())\n",
    "display(sp.N(sp.deg(theta3), 5))\n",
    "print(\"theta5:\", theta5.evalf())\n",
    "display(sp.N(sp.deg(theta5), 5))\n",
    "print(\"theta7:\", theta7.evalf())\n",
    "display(sp.N(sp.deg(theta7), 5))\n",
    "print(\"l6x:\", l6x_eval.evalf())\n",
    "display(sp.N(l6x_eval, 5))"
   ]
  },
  {
   "cell_type": "markdown",
   "id": "1dad1703",
   "metadata": {},
   "source": [
    "### Modelo de velocidad"
   ]
  },
  {
   "cell_type": "code",
   "execution_count": 8,
   "id": "61903274",
   "metadata": {},
   "outputs": [
    {
     "name": "stdout",
     "output_type": "stream",
     "text": [
      "Modelo evaluado:\n"
     ]
    },
    {
     "data": {
      "text/latex": [
       "$\\displaystyle \\left[ \\left[\\begin{matrix}- 40 \\omega_{2} \\left(- \\frac{5}{8} - \\frac{3 \\sin{\\left(2 \\operatorname{atan}{\\left(\\frac{1500 - \\sqrt{5163539 - 318940 \\sqrt{3}}}{70 \\sqrt{3} + 851} \\right)} \\right)}}{4}\\right) + 34.0339204138894\\\\40 \\omega_{2} \\sqrt{1 - \\left(\\frac{3 \\sin{\\left(2 \\operatorname{atan}{\\left(\\frac{1500 - \\sqrt{5163539 - 318940 \\sqrt{3}}}{70 \\sqrt{3} + 851} \\right)} \\right)}}{4} + \\frac{5}{8}\\right)^{2}} - 34.0339204138894 \\sqrt{3}\\\\0\\end{matrix}\\right] = \\left[\\begin{matrix}- 30 \\omega_{3} \\sin{\\left(2 \\operatorname{atan}{\\left(\\frac{-1500 + \\sqrt{5163539 - 318940 \\sqrt{3}}}{70 \\sqrt{3} + 851} \\right)} \\right)}\\\\30 \\omega_{3} \\cos{\\left(2 \\operatorname{atan}{\\left(\\frac{-1500 + \\sqrt{5163539 - 318940 \\sqrt{3}}}{70 \\sqrt{3} + 851} \\right)} \\right)}\\\\0\\end{matrix}\\right], \\  \\left[\\begin{matrix}v_{dx}\\\\0\\\\0\\end{matrix}\\right] = \\left[\\begin{matrix}9.47233669909662 \\omega_{5} - 59.4723366990966 \\omega_{7}\\\\64.3061026455417 \\omega_{5} + 7.93984682152535 \\omega_{7}\\\\0\\end{matrix}\\right], \\  \\omega_{7} = \\omega_{3}\\right]$"
      ],
      "text/plain": [
       "<IPython.core.display.Math object>"
      ]
     },
     "metadata": {},
     "output_type": "display_data"
    },
    {
     "name": "stdout",
     "output_type": "stream",
     "text": [
      "Solución\n"
     ]
    },
    {
     "data": {
      "text/latex": [
       "$\\displaystyle \\left\\{ \\omega_{2} : 1.15290399753279, \\  \\omega_{3} : -1.11800933522776, \\  \\omega_{5} : 0.138040131520228, \\  \\omega_{7} : -1.11800933522776, \\  v_{dx} : 67.798190221146\\right\\}$"
      ],
      "text/plain": [
       "<IPython.core.display.Math object>"
      ]
     },
     "metadata": {},
     "output_type": "display_data"
    },
    {
     "name": "stdout",
     "output_type": "stream",
     "text": [
      "omega1: -6.8067840827778845\n"
     ]
    },
    {
     "data": {
      "text/latex": [
       "$\\displaystyle -65.0$"
      ],
      "text/plain": [
       "-65.000"
      ]
     },
     "metadata": {},
     "output_type": "display_data"
    },
    {
     "name": "stdout",
     "output_type": "stream",
     "text": [
      "omega2: 1.15290399753279\n"
     ]
    },
    {
     "data": {
      "text/latex": [
       "$\\displaystyle 11.009$"
      ],
      "text/plain": [
       "11.009"
      ]
     },
     "metadata": {},
     "output_type": "display_data"
    },
    {
     "name": "stdout",
     "output_type": "stream",
     "text": [
      "omega3: -1.11800933522776\n"
     ]
    },
    {
     "data": {
      "text/latex": [
       "$\\displaystyle -10.676$"
      ],
      "text/plain": [
       "-10.676"
      ]
     },
     "metadata": {},
     "output_type": "display_data"
    },
    {
     "name": "stdout",
     "output_type": "stream",
     "text": [
      "omega5: 0.138040131520228\n"
     ]
    },
    {
     "data": {
      "text/latex": [
       "$\\displaystyle 1.3182$"
      ],
      "text/plain": [
       "1.3182"
      ]
     },
     "metadata": {},
     "output_type": "display_data"
    },
    {
     "name": "stdout",
     "output_type": "stream",
     "text": [
      "omega7: -1.11800933522776\n"
     ]
    },
    {
     "data": {
      "text/latex": [
       "$\\displaystyle -10.676$"
      ],
      "text/plain": [
       "-10.676"
      ]
     },
     "metadata": {},
     "output_type": "display_data"
    },
    {
     "name": "stdout",
     "output_type": "stream",
     "text": [
      "vdx: 67.7981902211460\n"
     ]
    },
    {
     "data": {
      "text/latex": [
       "$\\displaystyle 67.798$"
      ],
      "text/plain": [
       "67.798"
      ]
     },
     "metadata": {},
     "output_type": "display_data"
    }
   ],
   "source": [
    "# dato de entrada\n",
    "omega1 = -65*np.pi/30\n",
    "\n",
    "valores = {th1: theta1,\n",
    "           th2: theta2,\n",
    "           th3: theta3,\n",
    "           th5: theta5,\n",
    "           th7: theta7,\n",
    "           l6x: l6x_eval,\n",
    "           w1: omega1}\n",
    "\n",
    "# evaluación del dato de entrada\n",
    "dQ_eval = dQ\n",
    "for i in range(3):\n",
    "    dQ_eval[i] = dQ[i].evalf(subs=valores)\n",
    "print(\"Modelo evaluado:\")\n",
    "display(Math(sp.latex(dQ_eval)))\n",
    "\n",
    "# soluciones\n",
    "sol = sp.solve(dQ_eval, (w2, w3, w5, w7, vdx))\n",
    "print(\"Solución\")\n",
    "display(Math(sp.latex(sol)))\n",
    "\n",
    "# Almacenar en memoria\n",
    "omega2 = sol[w2]\n",
    "omega3 = sol[w3]\n",
    "omega5 = sol[w5]\n",
    "omega7 = sol[w7]\n",
    "vdx_eval = sol[vdx]\n",
    "\n",
    "# Mostrar resultados\n",
    "print(\"omega1:\", omega1)\n",
    "display(sp.N(omega1*30/np.pi, 5))\n",
    "print(\"omega2:\", omega2.evalf())\n",
    "display(sp.N(omega2*30/np.pi, 5))\n",
    "print(\"omega3:\", omega3.evalf())\n",
    "display(sp.N(omega3*30/np.pi, 5))\n",
    "print(\"omega5:\", omega5.evalf())\n",
    "display(sp.N(omega5*30/np.pi, 5))\n",
    "print(\"omega7:\", omega7.evalf())\n",
    "display(sp.N(omega7*30/np.pi, 5))\n",
    "print(\"vdx:\", vdx_eval.evalf())\n",
    "display(sp.N(vdx_eval, 5))\n"
   ]
  },
  {
   "cell_type": "markdown",
   "id": "e0bd3e15",
   "metadata": {},
   "source": [
    "### Modelo de aceleración"
   ]
  },
  {
   "cell_type": "code",
   "execution_count": 9,
   "id": "2d2e2a6e",
   "metadata": {},
   "outputs": [
    {
     "name": "stdout",
     "output_type": "stream",
     "text": [
      "Modelo evaluado:\n"
     ]
    },
    {
     "data": {
      "text/latex": [
       "$\\displaystyle \\left[ \\left[\\begin{matrix}- 40 \\alpha_{2} \\left(- \\frac{5}{8} - \\frac{3 \\sin{\\left(2 \\operatorname{atan}{\\left(\\frac{1500 - \\sqrt{5163539 - 318940 \\sqrt{3}}}{70 \\sqrt{3} + 851} \\right)} \\right)}}{4}\\right) - 46.1161599013116 \\sqrt{1 - \\left(\\frac{3 \\sin{\\left(2 \\operatorname{atan}{\\left(\\frac{1500 - \\sqrt{5163539 - 318940 \\sqrt{3}}}{70 \\sqrt{3} + 851} \\right)} \\right)}}{4} + \\frac{5}{8}\\right)^{2}} + 34.0339204138894 \\sqrt{3}\\\\40 \\alpha_{2} \\sqrt{1 - \\left(\\frac{3 \\sin{\\left(2 \\operatorname{atan}{\\left(\\frac{1500 - \\sqrt{5163539 - 318940 \\sqrt{3}}}{70 \\sqrt{3} + 851} \\right)} \\right)}}{4} + \\frac{5}{8}\\right)^{2}} + 34.5871199259837 \\sin{\\left(2 \\operatorname{atan}{\\left(\\frac{1500 - \\sqrt{5163539 - 318940 \\sqrt{3}}}{70 \\sqrt{3} + 851} \\right)} \\right)} + 62.8565203522092\\\\0\\end{matrix}\\right] = \\left[\\begin{matrix}- 30 \\alpha_{3} \\sin{\\left(2 \\operatorname{atan}{\\left(\\frac{-1500 + \\sqrt{5163539 - 318940 \\sqrt{3}}}{70 \\sqrt{3} + 851} \\right)} \\right)} + 33.5402800568329 \\cos{\\left(2 \\operatorname{atan}{\\left(\\frac{-1500 + \\sqrt{5163539 - 318940 \\sqrt{3}}}{70 \\sqrt{3} + 851} \\right)} \\right)}\\\\30 \\alpha_{3} \\cos{\\left(2 \\operatorname{atan}{\\left(\\frac{-1500 + \\sqrt{5163539 - 318940 \\sqrt{3}}}{70 \\sqrt{3} + 851} \\right)} \\right)} + 33.5402800568329 \\sin{\\left(2 \\operatorname{atan}{\\left(\\frac{-1500 + \\sqrt{5163539 - 318940 \\sqrt{3}}}{70 \\sqrt{3} + 851} \\right)} \\right)}\\\\0\\end{matrix}\\right], \\  \\left[\\begin{matrix}a_{dx}\\\\0\\\\0\\end{matrix}\\right] = \\left[\\begin{matrix}9.47233669909662 \\alpha_{5} - 59.4723366990966 \\alpha_{7} + 1.77635683940025 \\cdot 10^{-15}\\\\64.3061026455417 \\alpha_{5} + 7.93984682152535 \\alpha_{7} + 67.798190221146\\\\0\\end{matrix}\\right], \\  \\alpha_{7} = \\alpha_{3}\\right]$"
      ],
      "text/plain": [
       "<IPython.core.display.Math object>"
      ]
     },
     "metadata": {},
     "output_type": "display_data"
    },
    {
     "name": "stdout",
     "output_type": "stream",
     "text": [
      "Solución\n"
     ]
    },
    {
     "data": {
      "text/latex": [
       "$\\displaystyle \\left\\{ a_{dx} : -9.98672379360274, \\  \\alpha_{2} : -2.57213820708757 \\cdot 10^{-15}, \\  \\alpha_{3} : -9.11545020144573 \\cdot 10^{-16}, \\  \\alpha_{5} : -1.05430413960636, \\  \\alpha_{7} : -9.11545020144573 \\cdot 10^{-16}\\right\\}$"
      ],
      "text/plain": [
       "<IPython.core.display.Math object>"
      ]
     },
     "metadata": {},
     "output_type": "display_data"
    },
    {
     "name": "stdout",
     "output_type": "stream",
     "text": [
      "alpha1: 0.0\n"
     ]
    },
    {
     "data": {
      "text/latex": [
       "$\\displaystyle 0$"
      ],
      "text/plain": [
       "0"
      ]
     },
     "metadata": {},
     "output_type": "display_data"
    },
    {
     "name": "stdout",
     "output_type": "stream",
     "text": [
      "alpha2: -2.57213820708757e-15\n"
     ]
    },
    {
     "data": {
      "text/latex": [
       "$\\displaystyle -2.5721 \\cdot 10^{-15}$"
      ],
      "text/plain": [
       "-2.5721e-15"
      ]
     },
     "metadata": {},
     "output_type": "display_data"
    },
    {
     "name": "stdout",
     "output_type": "stream",
     "text": [
      "alpha3: -9.11545020144573e-16\n"
     ]
    },
    {
     "data": {
      "text/latex": [
       "$\\displaystyle -9.1154 \\cdot 10^{-16}$"
      ],
      "text/plain": [
       "-9.1154e-16"
      ]
     },
     "metadata": {},
     "output_type": "display_data"
    }
   ],
   "source": [
    "# dato de entrada\n",
    "alpha1 = 0.0\n",
    "\n",
    "valores = {th1: theta1,\n",
    "           th2: theta2,\n",
    "           th3: theta3,\n",
    "           th5: theta5,\n",
    "           th7: theta7,\n",
    "           l6x: l6x_eval,\n",
    "           w1: omega1,\n",
    "           w2: omega2,\n",
    "           w3: omega3,\n",
    "           w5: omega5,\n",
    "           w7: omega7,\n",
    "           vdx: vdx_eval,\n",
    "           a1: alpha1}\n",
    "\n",
    "# evaluación del dato de entrada\n",
    "ddQ_eval = ddQ\n",
    "for i in range(3):\n",
    "    ddQ_eval[i] = ddQ[i].evalf(subs=valores)\n",
    "print(\"Modelo evaluado:\")\n",
    "display(Math(sp.latex(ddQ_eval)))\n",
    "\n",
    "# soluciones\n",
    "sol = sp.solve(ddQ_eval, (a2, a3, a5, a7, adx))\n",
    "print(\"Solución\")\n",
    "display(Math(sp.latex(sol)))\n",
    "\n",
    "# Almacenar en memoria\n",
    "alpha2 = sol[a2]\n",
    "alpha3 = sol[a3]\n",
    "\n",
    "# Mostrar resultados\n",
    "print(\"alpha1:\", alpha1)\n",
    "display(sp.N(alpha1, 5))\n",
    "print(\"alpha2:\", alpha2.evalf())\n",
    "display(sp.N(alpha2, 5))\n",
    "print(\"alpha3:\", alpha3.evalf())\n",
    "display(sp.N(alpha3, 5))"
   ]
  },
  {
   "cell_type": "markdown",
   "id": "3681ffb6",
   "metadata": {},
   "source": [
    "## 4) Visualizar resultados y configuración del mecanismo\n",
    "Para un instante determinado."
   ]
  },
  {
   "cell_type": "code",
   "execution_count": 10,
   "id": "39cebd92",
   "metadata": {},
   "outputs": [],
   "source": [
    "# Almacenar los resultados obtenidos\n",
    "\n",
    "res = {th1: theta1,\n",
    "       th2: theta2,\n",
    "       th3: theta3,\n",
    "       w1: omega1,\n",
    "       w2: omega2,\n",
    "       w3: omega3,\n",
    "       a1: alpha1,\n",
    "       a2: alpha2,\n",
    "       a3: alpha3}"
   ]
  },
  {
   "cell_type": "markdown",
   "id": "6823c32e",
   "metadata": {},
   "source": [
    "### Modelo de posición"
   ]
  }
 ],
 "metadata": {
  "kernelspec": {
   "display_name": "meca",
   "language": "python",
   "name": "python3"
  },
  "language_info": {
   "codemirror_mode": {
    "name": "ipython",
    "version": 3
   },
   "file_extension": ".py",
   "mimetype": "text/x-python",
   "name": "python",
   "nbconvert_exporter": "python",
   "pygments_lexer": "ipython3",
   "version": "3.11.13"
  }
 },
 "nbformat": 4,
 "nbformat_minor": 5
}
