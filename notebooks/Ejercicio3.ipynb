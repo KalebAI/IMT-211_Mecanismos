{
 "cells": [
  {
   "cell_type": "markdown",
   "id": "12b36c8b",
   "metadata": {},
   "source": [
    "# IMT‑211 · Análisis Cinemático de Mecanismos compuesto por dos mecanismos de 4 Barras"
   ]
  },
  {
   "cell_type": "markdown",
   "id": "6c482691",
   "metadata": {},
   "source": [
    "## Importación de librerias"
   ]
  },
  {
   "cell_type": "code",
   "execution_count": 1,
   "id": "031b8abe",
   "metadata": {},
   "outputs": [],
   "source": [
    "import math\n",
    "import numpy as np\n",
    "import sympy as sp\n",
    "from IPython.display import Math, display\n",
    "import matplotlib.pyplot as plt\n",
    "from matplotlib.animation import FuncAnimation"
   ]
  },
  {
   "cell_type": "markdown",
   "id": "ee8be96c",
   "metadata": {},
   "source": [
    "\n",
    "## 1) Definición del mecanismo y del perfil de entrada\n",
    "\n",
    "### Eslabones:\n",
    "- `L0`: **Bancada**\n",
    "- `L1`: **Biela**\n",
    "- `L2`: **Acoplador**\n",
    "- `L3`: **Brazo balancín**\n",
    "\n",
    "### Juntas:\n",
    "- `O_1`: **L0,R,L1**\n",
    "- `A`:  **L1,R,L2**\n",
    "- `B`:  **L2,R,L3**\n",
    "- `O_4`: **L0,R,L3**\n",
    "\n",
    "### Punto de Interés:\n",
    "- `Y`: **Extremo del brazo del balancín**\n",
    "\n",
    "\n"
   ]
  },
  {
   "cell_type": "markdown",
   "id": "f9cd84e4",
   "metadata": {},
   "source": [
    "### Datos de entrada:"
   ]
  },
  {
   "cell_type": "code",
   "execution_count": 2,
   "id": "fd02e754",
   "metadata": {},
   "outputs": [],
   "source": [
    "# --- Longitudes de eslabones (unidades arbitrarias, p. ej., mm) ---\n",
    "l0x = 37  # logitud en x de bancada\n",
    "l0y = -20\n",
    "l1 = 10\n",
    "l2 = 40\n",
    "l3 = 30\n",
    "l4 = 32\n",
    "l5 = 65\n",
    "l6y = 30\n",
    "l7 = 60\n",
    "\n",
    "# constantes:\n",
    "gamma = sp.acos((l3**2 + l7**2 - l4**2)/(2*l3*l7))"
   ]
  },
  {
   "cell_type": "markdown",
   "id": "3c3af130",
   "metadata": {},
   "source": [
    "### Vectores posición"
   ]
  },
  {
   "cell_type": "code",
   "execution_count": 3,
   "id": "ee4d35b1",
   "metadata": {},
   "outputs": [
    {
     "name": "stdout",
     "output_type": "stream",
     "text": [
      "Vectores de posición relativa:\n",
      "Ra:\n"
     ]
    },
    {
     "data": {
      "text/latex": [
       "$\\displaystyle \\left[\\begin{matrix}10 \\cos{\\left(\\theta_{1} \\right)}\\\\10 \\sin{\\left(\\theta_{1} \\right)}\\\\0\\end{matrix}\\right]$"
      ],
      "text/plain": [
       "<IPython.core.display.Math object>"
      ]
     },
     "metadata": {},
     "output_type": "display_data"
    },
    {
     "name": "stdout",
     "output_type": "stream",
     "text": [
      "Rab:\n"
     ]
    },
    {
     "data": {
      "text/latex": [
       "$\\displaystyle \\left[\\begin{matrix}40 \\cos{\\left(\\theta_{2} \\right)}\\\\40 \\sin{\\left(\\theta_{2} \\right)}\\\\0\\end{matrix}\\right]$"
      ],
      "text/plain": [
       "<IPython.core.display.Math object>"
      ]
     },
     "metadata": {},
     "output_type": "display_data"
    },
    {
     "name": "stdout",
     "output_type": "stream",
     "text": [
      "Ro4b:\n"
     ]
    },
    {
     "data": {
      "text/latex": [
       "$\\displaystyle \\left[\\begin{matrix}30 \\cos{\\left(\\theta_{3} \\right)}\\\\30 \\sin{\\left(\\theta_{3} \\right)}\\\\0\\end{matrix}\\right]$"
      ],
      "text/plain": [
       "<IPython.core.display.Math object>"
      ]
     },
     "metadata": {},
     "output_type": "display_data"
    },
    {
     "name": "stdout",
     "output_type": "stream",
     "text": [
      "Rcd:\n"
     ]
    },
    {
     "data": {
      "text/latex": [
       "$\\displaystyle \\left[\\begin{matrix}65 \\cos{\\left(\\theta_{5} \\right)}\\\\65 \\sin{\\left(\\theta_{5} \\right)}\\\\0\\end{matrix}\\right]$"
      ],
      "text/plain": [
       "<IPython.core.display.Math object>"
      ]
     },
     "metadata": {},
     "output_type": "display_data"
    },
    {
     "name": "stdout",
     "output_type": "stream",
     "text": [
      "Ro4c:\n"
     ]
    },
    {
     "data": {
      "text/latex": [
       "$\\displaystyle \\left[\\begin{matrix}60 \\cos{\\left(\\theta_{7} \\right)}\\\\60 \\sin{\\left(\\theta_{7} \\right)}\\\\0\\end{matrix}\\right]$"
      ],
      "text/plain": [
       "<IPython.core.display.Math object>"
      ]
     },
     "metadata": {},
     "output_type": "display_data"
    },
    {
     "data": {
      "text/latex": [
       "$\\displaystyle \\left[\\begin{matrix}l_{6x}\\\\30\\\\0\\end{matrix}\\right]$"
      ],
      "text/plain": [
       "Matrix([\n",
       "[l_6x],\n",
       "[  30],\n",
       "[   0]])"
      ]
     },
     "execution_count": 3,
     "metadata": {},
     "output_type": "execute_result"
    }
   ],
   "source": [
    "# --- Crear las variables angulares ---\n",
    "th1 = sp.symbols('theta_1')\n",
    "th2 = sp.symbols('theta_2')\n",
    "th3 = sp.symbols('theta_3')\n",
    "th4 = sp.symbols('theta_4')\n",
    "th5 = sp.symbols('theta_5')\n",
    "th7 = sp.symbols('theta_7')\n",
    "\n",
    "# --- Crear variable lineal ---\n",
    "l6x = sp.symbols('l_6x')\n",
    "\n",
    "# --- definir mis verctores ---\n",
    "## primera cadena cinemática\n",
    "Ro4 = sp.Matrix([[l0x],\n",
    "                [l0y],\n",
    "                [0]])\n",
    "\n",
    "Ra = sp.Matrix([[l1*sp.cos(th1)],\n",
    "                [l1*sp.sin(th1)],\n",
    "                [0]])\n",
    "\n",
    "Rab = sp.Matrix([[l2*sp.cos(th2)],\n",
    "                 [l2*sp.sin(th2)],\n",
    "                 [0]])\n",
    "\n",
    "Ro4b = sp.Matrix([[l3*sp.cos(th3)],\n",
    "                  [l3*sp.sin(th3)],\n",
    "                  [0]])\n",
    "\n",
    "Rb = Ra + Rab\n",
    "\n",
    "## segunda cadena cinemática\n",
    "Ro4c = sp.Matrix([[l7*sp.cos(th7)],\n",
    "                  [l7*sp.sin(th7)],\n",
    "                  [0]])\n",
    "\n",
    "Rcd = sp.Matrix([[l5*sp.cos(th5)],\n",
    "                 [l5*sp.sin(th5)],\n",
    "                 [0]])\n",
    "\n",
    "Rd = sp.Matrix([[l6x],\n",
    "               [l6y],\n",
    "               [0]])\n",
    "\n",
    "\n",
    "print(\"Vectores de posición relativa:\")\n",
    "print(\"Ra:\")\n",
    "display(Math(sp.latex(Ra)))\n",
    "print(\"Rab:\")\n",
    "display(Math(sp.latex(Rab)))\n",
    "print(\"Ro4b:\")\n",
    "display(Math(sp.latex(Ro4b)))\n",
    "print(\"Rcd:\")\n",
    "display(Math(sp.latex(Rcd)))\n",
    "print(\"Ro4c:\")\n",
    "display(Math(sp.latex(Ro4c)))\n",
    "Rd"
   ]
  },
  {
   "cell_type": "markdown",
   "id": "4f843203",
   "metadata": {},
   "source": [
    "### Vectores Velocidad"
   ]
  },
  {
   "cell_type": "code",
   "execution_count": 4,
   "id": "febb5805",
   "metadata": {},
   "outputs": [
    {
     "name": "stdout",
     "output_type": "stream",
     "text": [
      "Vectores de velocidad relativa:\n",
      "Va:\n"
     ]
    },
    {
     "data": {
      "text/latex": [
       "$\\displaystyle \\left[\\begin{matrix}- 10 \\omega_{1} \\sin{\\left(\\theta_{1} \\right)}\\\\10 \\omega_{1} \\cos{\\left(\\theta_{1} \\right)}\\\\0\\end{matrix}\\right]$"
      ],
      "text/plain": [
       "<IPython.core.display.Math object>"
      ]
     },
     "metadata": {},
     "output_type": "display_data"
    },
    {
     "name": "stdout",
     "output_type": "stream",
     "text": [
      "Vab:\n"
     ]
    },
    {
     "data": {
      "text/latex": [
       "$\\displaystyle \\left[\\begin{matrix}- 40 \\omega_{2} \\sin{\\left(\\theta_{2} \\right)}\\\\40 \\omega_{2} \\cos{\\left(\\theta_{2} \\right)}\\\\0\\end{matrix}\\right]$"
      ],
      "text/plain": [
       "<IPython.core.display.Math object>"
      ]
     },
     "metadata": {},
     "output_type": "display_data"
    },
    {
     "name": "stdout",
     "output_type": "stream",
     "text": [
      "Vo4b:\n"
     ]
    },
    {
     "data": {
      "text/latex": [
       "$\\displaystyle \\left[\\begin{matrix}- 30 \\omega_{3} \\sin{\\left(\\theta_{3} \\right)}\\\\30 \\omega_{3} \\cos{\\left(\\theta_{3} \\right)}\\\\0\\end{matrix}\\right]$"
      ],
      "text/plain": [
       "<IPython.core.display.Math object>"
      ]
     },
     "metadata": {},
     "output_type": "display_data"
    },
    {
     "name": "stdout",
     "output_type": "stream",
     "text": [
      "Vcd:\n"
     ]
    },
    {
     "data": {
      "text/latex": [
       "$\\displaystyle \\left[\\begin{matrix}- 65 \\omega_{5} \\sin{\\left(\\theta_{5} \\right)}\\\\65 \\omega_{5} \\cos{\\left(\\theta_{5} \\right)}\\\\0\\end{matrix}\\right]$"
      ],
      "text/plain": [
       "<IPython.core.display.Math object>"
      ]
     },
     "metadata": {},
     "output_type": "display_data"
    },
    {
     "name": "stdout",
     "output_type": "stream",
     "text": [
      "Vo4c:\n"
     ]
    },
    {
     "data": {
      "text/latex": [
       "$\\displaystyle \\left[\\begin{matrix}- 60 \\omega_{7} \\sin{\\left(\\theta_{7} \\right)}\\\\60 \\omega_{7} \\cos{\\left(\\theta_{7} \\right)}\\\\0\\end{matrix}\\right]$"
      ],
      "text/plain": [
       "<IPython.core.display.Math object>"
      ]
     },
     "metadata": {},
     "output_type": "display_data"
    },
    {
     "name": "stdout",
     "output_type": "stream",
     "text": [
      "Vd:\n"
     ]
    },
    {
     "data": {
      "text/latex": [
       "$\\displaystyle \\left[\\begin{matrix}v_{dx}\\\\0\\\\0\\end{matrix}\\right]$"
      ],
      "text/plain": [
       "<IPython.core.display.Math object>"
      ]
     },
     "metadata": {},
     "output_type": "display_data"
    }
   ],
   "source": [
    "# --- Crear las variables de velocidades angulares ---\n",
    "w1 = sp.symbols('omega_1')\n",
    "w2 = sp.symbols('omega_2')\n",
    "w3 = sp.symbols('omega_3')\n",
    "w5 = sp.symbols('omega_5')\n",
    "w7 = sp.symbols('omega_7')\n",
    "\n",
    "# --- Crear las variables de velocidades lineal ---\n",
    "vdx = sp.symbols('v_dx')\n",
    "\n",
    "# --- Crear los Vectores de velocidad --- (para angulares y escalares)\n",
    "W1 = sp.Matrix([[0],\n",
    "                [0],\n",
    "                [w1]])\n",
    "\n",
    "W2 = sp.Matrix([[0],\n",
    "                [0],\n",
    "                [w2]])\n",
    "\n",
    "W3 = sp.Matrix([[0],\n",
    "                [0],\n",
    "                [w3]])\n",
    "\n",
    "W5 = sp.Matrix([[0],\n",
    "                [0],\n",
    "                [w5]])\n",
    "\n",
    "W7 = sp.Matrix([[0],\n",
    "                [0],\n",
    "                [w7]])\n",
    "\n",
    "## primera cadena cinemática\n",
    "Va = W1.cross(Ra)\n",
    "\n",
    "Vab = W2.cross(Rab)\n",
    "\n",
    "Vo4b = W3.cross(Ro4b)\n",
    "\n",
    "Vb = Va + Vab\n",
    "# Vb = Vo4b = W3.cross(Ro4b) ## otra forma de obtener Vb\n",
    "\n",
    "## segunda cadena cinemática\n",
    "Vo4c = W7.cross(Ro4c)\n",
    "\n",
    "Vcd = W5.cross(Rcd)\n",
    "\n",
    "Vd = sp.Matrix([[vdx],\n",
    "                [0],\n",
    "                [0]])\n",
    "\n",
    "print(\"Vectores de velocidad relativa:\")\n",
    "print(\"Va:\")\n",
    "display(Math(sp.latex(Va)))\n",
    "print(\"Vab:\")\n",
    "display(Math(sp.latex(Vab)))\n",
    "print(\"Vo4b:\")\n",
    "display(Math(sp.latex(Vo4b)))\n",
    "print(\"Vcd:\")\n",
    "display(Math(sp.latex(Vcd)))\n",
    "print(\"Vo4c:\")\n",
    "display(Math(sp.latex(Vo4c)))\n",
    "print(\"Vd:\")\n",
    "display(Math(sp.latex(Vd)))"
   ]
  },
  {
   "cell_type": "markdown",
   "id": "823319c8",
   "metadata": {},
   "source": [
    "### Vectores Aceleración"
   ]
  },
  {
   "cell_type": "code",
   "execution_count": 5,
   "id": "5597c808",
   "metadata": {},
   "outputs": [
    {
     "name": "stdout",
     "output_type": "stream",
     "text": [
      "Vectores de aceleración relativa:\n",
      "Aa:\n"
     ]
    },
    {
     "data": {
      "text/latex": [
       "$\\displaystyle \\left[\\begin{matrix}- 10 \\alpha_{1} \\sin{\\left(\\theta_{1} \\right)} - 10 \\omega_{1} \\cos{\\left(\\theta_{1} \\right)}\\\\10 \\alpha_{1} \\cos{\\left(\\theta_{1} \\right)} - 10 \\omega_{1} \\sin{\\left(\\theta_{1} \\right)}\\\\0\\end{matrix}\\right]$"
      ],
      "text/plain": [
       "<IPython.core.display.Math object>"
      ]
     },
     "metadata": {},
     "output_type": "display_data"
    },
    {
     "name": "stdout",
     "output_type": "stream",
     "text": [
      "Aab:\n"
     ]
    },
    {
     "data": {
      "text/latex": [
       "$\\displaystyle \\left[\\begin{matrix}- 40 \\alpha_{2} \\sin{\\left(\\theta_{2} \\right)} - 40 \\omega_{2} \\cos{\\left(\\theta_{2} \\right)}\\\\40 \\alpha_{2} \\cos{\\left(\\theta_{2} \\right)} - 40 \\omega_{2} \\sin{\\left(\\theta_{2} \\right)}\\\\0\\end{matrix}\\right]$"
      ],
      "text/plain": [
       "<IPython.core.display.Math object>"
      ]
     },
     "metadata": {},
     "output_type": "display_data"
    },
    {
     "name": "stdout",
     "output_type": "stream",
     "text": [
      "Ao4b:\n"
     ]
    },
    {
     "data": {
      "text/latex": [
       "$\\displaystyle \\left[\\begin{matrix}- 30 \\alpha_{3} \\sin{\\left(\\theta_{3} \\right)} - 30 \\omega_{3} \\cos{\\left(\\theta_{3} \\right)}\\\\30 \\alpha_{3} \\cos{\\left(\\theta_{3} \\right)} - 30 \\omega_{3} \\sin{\\left(\\theta_{3} \\right)}\\\\0\\end{matrix}\\right]$"
      ],
      "text/plain": [
       "<IPython.core.display.Math object>"
      ]
     },
     "metadata": {},
     "output_type": "display_data"
    },
    {
     "name": "stdout",
     "output_type": "stream",
     "text": [
      "Ao4c:\n"
     ]
    },
    {
     "data": {
      "text/latex": [
       "$\\displaystyle \\left[\\begin{matrix}- 60 \\alpha_{7} \\sin{\\left(\\theta_{7} \\right)} - 60 \\omega_{7} \\cos{\\left(\\theta_{7} \\right)}\\\\60 \\alpha_{7} \\cos{\\left(\\theta_{7} \\right)} - 60 \\omega_{7} \\sin{\\left(\\theta_{7} \\right)}\\\\0\\end{matrix}\\right]$"
      ],
      "text/plain": [
       "<IPython.core.display.Math object>"
      ]
     },
     "metadata": {},
     "output_type": "display_data"
    },
    {
     "name": "stdout",
     "output_type": "stream",
     "text": [
      "Acd:\n"
     ]
    },
    {
     "data": {
      "text/latex": [
       "$\\displaystyle \\left[\\begin{matrix}- 65 \\alpha_{5} \\sin{\\left(\\theta_{5} \\right)} - 65 \\omega_{5} \\cos{\\left(\\theta_{5} \\right)}\\\\65 \\alpha_{5} \\cos{\\left(\\theta_{5} \\right)} - 65 \\omega_{5} \\sin{\\left(\\theta_{5} \\right)}\\\\0\\end{matrix}\\right]$"
      ],
      "text/plain": [
       "<IPython.core.display.Math object>"
      ]
     },
     "metadata": {},
     "output_type": "display_data"
    },
    {
     "name": "stdout",
     "output_type": "stream",
     "text": [
      "Ad:\n"
     ]
    },
    {
     "data": {
      "text/latex": [
       "$\\displaystyle \\left[\\begin{matrix}a_{dx}\\\\0\\\\0\\end{matrix}\\right]$"
      ],
      "text/plain": [
       "<IPython.core.display.Math object>"
      ]
     },
     "metadata": {},
     "output_type": "display_data"
    }
   ],
   "source": [
    "# --- Crear las variables de aceleraciones angulares ---\n",
    "a1 = sp.symbols('alpha_1')\n",
    "a2 = sp.symbols('alpha_2')\n",
    "a3 = sp.symbols('alpha_3')\n",
    "a5 = sp.symbols('alpha_5')\n",
    "a7 = sp.symbols('alpha_7')\n",
    "\n",
    "# --- Crear las variables de aceleraciones lineal ---\n",
    "adx = sp.symbols('a_dx')\n",
    "\n",
    "# --- Crear los Vectores de Aceleración --- (para angulares y escalares)\n",
    "A1 = sp.Matrix([[0],\n",
    "                [0],\n",
    "                [a1]])\n",
    "\n",
    "A2 = sp.Matrix([[0],\n",
    "                [0],\n",
    "                [a2]])\n",
    "\n",
    "A3 = sp.Matrix([[0],\n",
    "                [0],\n",
    "                [a3]])\n",
    "\n",
    "A5 = sp.Matrix([[0],\n",
    "                [0],\n",
    "                [a5]])\n",
    "\n",
    "A7 = sp.Matrix([[0],\n",
    "                [0],\n",
    "                [a7]])\n",
    "\n",
    "## primera cadena cinemática\n",
    "Aa_T = A1.cross(Ra)\n",
    "Aa_N = -w1*Ra\n",
    "Aa = Aa_T + Aa_N # + Aa_C ## -> la aceleración de Coriolis/ movimiento linean y rotacional\n",
    "\n",
    "Aab_T = A2.cross(Rab)\n",
    "Aab_N = -w2*Rab\n",
    "Aab = Aab_T + Aab_N\n",
    "\n",
    "Ab = Aa + Aab\n",
    "\n",
    "Ao4b_T = A3.cross(Ro4b)\n",
    "Ao4b_N = -w3*Ro4b\n",
    "Ao4b = Ao4b_T + Ao4b_N\n",
    "\n",
    "#Ab = Ao4b = Ao4b_T + Ao4b_N ## otra forma de obtener la aceleración en B\n",
    "\n",
    "## segunda cadena cinemática\n",
    "Ao4c_T = A7.cross(Ro4c)\n",
    "Ao4c_N = -w7*Ro4c\n",
    "Ao4c = Ao4c_T + Ao4c_N\n",
    "\n",
    "Acd_T = A5.cross(Rcd)\n",
    "Acd_N = -w5*Rcd\n",
    "Acd = Acd_T + Acd_N\n",
    "\n",
    "Ad = sp.Matrix([[adx],\n",
    "                [0],\n",
    "                [0]])\n",
    "\n",
    "\n",
    "print(\"Vectores de aceleración relativa:\")\n",
    "print(\"Aa:\")\n",
    "display(Math(sp.latex(Aa)))\n",
    "print(\"Aab:\")\n",
    "display(Math(sp.latex(Aab)))\n",
    "print(\"Ao4b:\")\n",
    "display(Math(sp.latex(Ao4b)))\n",
    "print(\"Ao4c:\")\n",
    "display(Math(sp.latex(Ao4c)))\n",
    "print(\"Acd:\")\n",
    "display(Math(sp.latex(Acd)))\n",
    "print(\"Ad:\")\n",
    "display(Math(sp.latex(Ad)))"
   ]
  },
  {
   "cell_type": "markdown",
   "id": "54fe7fd3",
   "metadata": {},
   "source": [
    "## 2) Escribir el modelo matemático"
   ]
  },
  {
   "cell_type": "code",
   "execution_count": 6,
   "id": "98a2d15c",
   "metadata": {},
   "outputs": [
    {
     "name": "stdout",
     "output_type": "stream",
     "text": [
      "\n",
      " Modelo de posición:\n"
     ]
    },
    {
     "data": {
      "text/latex": [
       "$\\displaystyle \\left[ \\left[\\begin{matrix}10 \\cos{\\left(\\theta_{1} \\right)} + 40 \\cos{\\left(\\theta_{2} \\right)}\\\\10 \\sin{\\left(\\theta_{1} \\right)} + 40 \\sin{\\left(\\theta_{2} \\right)}\\\\0\\end{matrix}\\right] = \\left[\\begin{matrix}30 \\cos{\\left(\\theta_{3} \\right)} + 37\\\\30 \\sin{\\left(\\theta_{3} \\right)} - 20\\\\0\\end{matrix}\\right], \\  \\left[\\begin{matrix}l_{6x}\\\\30\\\\0\\end{matrix}\\right] = \\left[\\begin{matrix}65 \\cos{\\left(\\theta_{5} \\right)} + 60 \\cos{\\left(\\theta_{7} \\right)} + 37\\\\65 \\sin{\\left(\\theta_{5} \\right)} + 60 \\sin{\\left(\\theta_{7} \\right)} - 20\\\\0\\end{matrix}\\right], \\  \\theta_{7} = \\theta_{3} + 0.263226205669044\\right]$"
      ],
      "text/plain": [
       "<IPython.core.display.Math object>"
      ]
     },
     "metadata": {},
     "output_type": "display_data"
    },
    {
     "name": "stdout",
     "output_type": "stream",
     "text": [
      "\n",
      " Modelo de velocidad:\n"
     ]
    },
    {
     "data": {
      "text/latex": [
       "$\\displaystyle \\left[ \\left[\\begin{matrix}- 10 \\omega_{1} \\sin{\\left(\\theta_{1} \\right)} - 40 \\omega_{2} \\sin{\\left(\\theta_{2} \\right)}\\\\10 \\omega_{1} \\cos{\\left(\\theta_{1} \\right)} + 40 \\omega_{2} \\cos{\\left(\\theta_{2} \\right)}\\\\0\\end{matrix}\\right] = \\left[\\begin{matrix}- 30 \\omega_{3} \\sin{\\left(\\theta_{3} \\right)}\\\\30 \\omega_{3} \\cos{\\left(\\theta_{3} \\right)}\\\\0\\end{matrix}\\right], \\  \\left[\\begin{matrix}v_{dx}\\\\0\\\\0\\end{matrix}\\right] = \\left[\\begin{matrix}- 65 \\omega_{5} \\sin{\\left(\\theta_{5} \\right)} - 60 \\omega_{7} \\sin{\\left(\\theta_{7} \\right)}\\\\65 \\omega_{5} \\cos{\\left(\\theta_{5} \\right)} + 60 \\omega_{7} \\cos{\\left(\\theta_{7} \\right)}\\\\0\\end{matrix}\\right], \\  \\omega_{7} = \\omega_{3}\\right]$"
      ],
      "text/plain": [
       "<IPython.core.display.Math object>"
      ]
     },
     "metadata": {},
     "output_type": "display_data"
    },
    {
     "name": "stdout",
     "output_type": "stream",
     "text": [
      "\n",
      " Modelo de aceleración:\n"
     ]
    },
    {
     "data": {
      "text/latex": [
       "$\\displaystyle \\left[ \\left[\\begin{matrix}- 10 \\alpha_{1} \\sin{\\left(\\theta_{1} \\right)} - 40 \\alpha_{2} \\sin{\\left(\\theta_{2} \\right)} - 10 \\omega_{1} \\cos{\\left(\\theta_{1} \\right)} - 40 \\omega_{2} \\cos{\\left(\\theta_{2} \\right)}\\\\10 \\alpha_{1} \\cos{\\left(\\theta_{1} \\right)} + 40 \\alpha_{2} \\cos{\\left(\\theta_{2} \\right)} - 10 \\omega_{1} \\sin{\\left(\\theta_{1} \\right)} - 40 \\omega_{2} \\sin{\\left(\\theta_{2} \\right)}\\\\0\\end{matrix}\\right] = \\left[\\begin{matrix}- 30 \\alpha_{3} \\sin{\\left(\\theta_{3} \\right)} - 30 \\omega_{3} \\cos{\\left(\\theta_{3} \\right)}\\\\30 \\alpha_{3} \\cos{\\left(\\theta_{3} \\right)} - 30 \\omega_{3} \\sin{\\left(\\theta_{3} \\right)}\\\\0\\end{matrix}\\right], \\  \\left[\\begin{matrix}a_{dx}\\\\0\\\\0\\end{matrix}\\right] = \\left[\\begin{matrix}- 65 \\alpha_{5} \\sin{\\left(\\theta_{5} \\right)} - 60 \\alpha_{7} \\sin{\\left(\\theta_{7} \\right)} - 65 \\omega_{5} \\cos{\\left(\\theta_{5} \\right)} - 60 \\omega_{7} \\cos{\\left(\\theta_{7} \\right)}\\\\65 \\alpha_{5} \\cos{\\left(\\theta_{5} \\right)} + 60 \\alpha_{7} \\cos{\\left(\\theta_{7} \\right)} - 65 \\omega_{5} \\sin{\\left(\\theta_{5} \\right)} - 60 \\omega_{7} \\sin{\\left(\\theta_{7} \\right)}\\\\0\\end{matrix}\\right], \\  \\alpha_{7} = \\alpha_{3}\\right]$"
      ],
      "text/plain": [
       "<IPython.core.display.Math object>"
      ]
     },
     "metadata": {},
     "output_type": "display_data"
    }
   ],
   "source": [
    "# Construir ecuaciones de posición\n",
    "Q1 = sp.Eq(Ra + Rab, Ro4 + Ro4b)\n",
    "Q2 = sp.Eq(Rd, Ro4 + Ro4c + Rcd)\n",
    "Q3 = sp.Eq(th7, gamma + th3)\n",
    "\n",
    "Q = [Q1, Q2, Q3]\n",
    "\n",
    "# Construir mis ecuaciones de velocidad\n",
    "dQ1 = sp.Eq(Va + Vab, Vo4b)\n",
    "dQ2 = sp.Eq(Vd, Vo4c + Vcd)\n",
    "dQ3 = sp.Eq(w7, w3)\n",
    "\n",
    "dQ = [dQ1, dQ2, dQ3]\n",
    "\n",
    "# Construir mis ecuaciones de aceleración\n",
    "ddQ1 = sp.Eq(Aa + Aab, Ao4b)\n",
    "ddQ2 = sp.Eq(Ad, Ao4c + Acd)\n",
    "ddQ3 = sp.Eq(a7, a3)\n",
    "\n",
    "ddQ = [ddQ1, ddQ2, ddQ3]\n",
    "\n",
    "print(\"\\n Modelo de posición:\")\n",
    "display(Math(sp.latex(Q)))\n",
    "print(\"\\n Modelo de velocidad:\")\n",
    "display(Math(sp.latex(dQ)))\n",
    "print(\"\\n Modelo de aceleración:\")\n",
    "display(Math(sp.latex(ddQ)))\n"
   ]
  },
  {
   "cell_type": "markdown",
   "id": "47019982",
   "metadata": {},
   "source": [
    "## 3) Resolución del modelo\n",
    "Para un instante determinado, un parámetro de entrada."
   ]
  },
  {
   "cell_type": "markdown",
   "id": "2e9560c9",
   "metadata": {},
   "source": [
    "### Modelo de posición"
   ]
  },
  {
   "cell_type": "code",
   "execution_count": 13,
   "id": "47971030",
   "metadata": {},
   "outputs": [
    {
     "name": "stdout",
     "output_type": "stream",
     "text": [
      "Modelo evaluado:\n"
     ]
    },
    {
     "data": {
      "text/latex": [
       "$\\displaystyle \\left[ \\left[\\begin{matrix}40 \\cos{\\left(\\theta_{2} \\right)} + 5 \\sqrt{3}\\\\40 \\sin{\\left(\\theta_{2} \\right)} + 5\\\\0\\end{matrix}\\right] = \\left[\\begin{matrix}30 \\cos{\\left(\\theta_{3} \\right)} + 37\\\\30 \\sin{\\left(\\theta_{3} \\right)} - 20\\\\0\\end{matrix}\\right], \\  \\left[\\begin{matrix}l_{6x}\\\\30\\\\0\\end{matrix}\\right] = \\left[\\begin{matrix}65 \\cos{\\left(\\theta_{5} \\right)} + 60 \\cos{\\left(\\theta_{7} \\right)} + 37\\\\65 \\sin{\\left(\\theta_{5} \\right)} + 60 \\sin{\\left(\\theta_{7} \\right)} - 20\\\\0\\end{matrix}\\right], \\  \\theta_{7} = \\theta_{3} + 0.263226205669044\\right]$"
      ],
      "text/plain": [
       "<IPython.core.display.Math object>"
      ]
     },
     "metadata": {},
     "output_type": "display_data"
    },
    {
     "name": "stdout",
     "output_type": "stream",
     "text": [
      "Soluciones posibles para Q1:\n"
     ]
    },
    {
     "data": {
      "text/latex": [
       "$\\displaystyle \\left[ \\left( - \\operatorname{asin}{\\left(\\frac{3 \\sin{\\left(2 \\operatorname{atan}{\\left(\\frac{1500 - \\sqrt{5163539 - 318940 \\sqrt{3}}}{70 \\sqrt{3} + 851} \\right)} \\right)}}{4} + \\frac{5}{8} \\right)}, \\  2 \\operatorname{atan}{\\left(\\frac{-1500 + \\sqrt{5163539 - 318940 \\sqrt{3}}}{70 \\sqrt{3} + 851} \\right)}\\right), \\  \\left( - \\operatorname{asin}{\\left(\\frac{3 \\sin{\\left(2 \\operatorname{atan}{\\left(\\frac{1500 + \\sqrt{5163539 - 318940 \\sqrt{3}}}{70 \\sqrt{3} + 851} \\right)} \\right)}}{4} + \\frac{5}{8} \\right)}, \\  - 2 \\operatorname{atan}{\\left(\\frac{1500 + \\sqrt{5163539 - 318940 \\sqrt{3}}}{70 \\sqrt{3} + 851} \\right)}\\right)\\right]$"
      ],
      "text/plain": [
       "<IPython.core.display.Math object>"
      ]
     },
     "metadata": {},
     "output_type": "display_data"
    },
    {
     "name": "stdout",
     "output_type": "stream",
     "text": [
      "theta1: 0.610865238198015\n"
     ]
    },
    {
     "data": {
      "text/latex": [
       "$\\displaystyle 35.0$"
      ],
      "text/plain": [
       "35.000"
      ]
     },
     "metadata": {},
     "output_type": "display_data"
    },
    {
     "name": "stdout",
     "output_type": "stream",
     "text": [
      "theta2: 0.0670241817652055\n"
     ]
    },
    {
     "data": {
      "text/latex": [
       "$\\displaystyle 3.8402$"
      ],
      "text/plain": [
       "3.8402"
      ]
     },
     "metadata": {},
     "output_type": "display_data"
    },
    {
     "name": "stdout",
     "output_type": "stream",
     "text": [
      "theta3: 1.17485004822865\n"
     ]
    },
    {
     "data": {
      "text/latex": [
       "$\\displaystyle 67.314$"
      ],
      "text/plain": [
       "67.314"
      ]
     },
     "metadata": {},
     "output_type": "display_data"
    }
   ],
   "source": [
    "# dato de entrada\n",
    "theta1 = sp.rad(35)\n",
    "\n",
    "valores = {th1: theta1}\n",
    "\n",
    "# evaluación del dato de entrada\n",
    "Q_eval = Q\n",
    "Q_eval[0] = Q[0].evalf(subs=valores)\n",
    "print(\"Modelo evaluado:\")\n",
    "display(Math(sp.latex(Q_eval)))\n",
    "\n",
    "# soluciones secuenciales\n",
    "## primer sistema\n",
    "sol = sp.solve(Q_eval[0], [th2, th3])\n",
    "print(\"Soluciones posibles para Q1:\")\n",
    "display(Math(sp.latex(sol)))\n",
    "\n",
    "# selección de soluciones para Q1\n",
    "theta2 = sol[0][0]\n",
    "theta3 = sol[0][1]\n",
    "\n",
    "# Mostrar resultados\n",
    "print(\"theta1:\", theta1.evalf())\n",
    "display(sp.N(sp.deg(theta1), 5))\n",
    "print(\"theta2:\", theta2.evalf())\n",
    "display(sp.N(sp.deg(theta2), 5))\n",
    "print(\"theta3:\", theta3.evalf())\n",
    "display(sp.N(sp.deg(theta3), 5))\n"
   ]
  },
  {
   "cell_type": "markdown",
   "id": "1dad1703",
   "metadata": {},
   "source": [
    "### Modelo de velocidad"
   ]
  },
  {
   "cell_type": "code",
   "execution_count": null,
   "id": "61903274",
   "metadata": {},
   "outputs": [
    {
     "name": "stdout",
     "output_type": "stream",
     "text": [
      "Modelo evaluado:\n"
     ]
    },
    {
     "data": {
      "text/latex": [
       "$\\displaystyle \\left[\\begin{matrix}- 30 \\omega_{2} \\left(\\frac{5 \\sin{\\left(2 \\operatorname{atan}{\\left(\\frac{275 - 2 \\sqrt{13056 \\sqrt{3} + 108353}}{342 \\sqrt{3} + 1289} \\right)} \\right)}}{6} - \\frac{11}{30}\\right) - 1800.0\\\\- 30 \\omega_{2} \\sqrt{1 - \\left(\\frac{5 \\sin{\\left(2 \\operatorname{atan}{\\left(\\frac{275 - 2 \\sqrt{13056 \\sqrt{3} + 108353}}{342 \\sqrt{3} + 1289} \\right)} \\right)}}{6} - \\frac{11}{30}\\right)^{2}} + 1800.0 \\sqrt{3}\\\\0\\end{matrix}\\right] = \\left[\\begin{matrix}- 25 \\omega_{3} \\sin{\\left(2 \\operatorname{atan}{\\left(\\frac{275 - 2 \\sqrt{13056 \\sqrt{3} + 108353}}{342 \\sqrt{3} + 1289} \\right)} \\right)}\\\\25 \\omega_{3} \\cos{\\left(2 \\operatorname{atan}{\\left(\\frac{275 - 2 \\sqrt{13056 \\sqrt{3} + 108353}}{342 \\sqrt{3} + 1289} \\right)} \\right)}\\\\0\\end{matrix}\\right]$"
      ],
      "text/plain": [
       "<IPython.core.display.Math object>"
      ]
     },
     "metadata": {},
     "output_type": "display_data"
    },
    {
     "name": "stdout",
     "output_type": "stream",
     "text": [
      "Solución\n"
     ]
    },
    {
     "data": {
      "text/latex": [
       "$\\displaystyle \\left\\{ \\omega_{2} : 104.088271386036, \\  \\omega_{3} : 46.0441467620822\\right\\}$"
      ],
      "text/plain": [
       "<IPython.core.display.Math object>"
      ]
     },
     "metadata": {},
     "output_type": "display_data"
    },
    {
     "name": "stdout",
     "output_type": "stream",
     "text": [
      "omega1: 300.0\n"
     ]
    },
    {
     "data": {
      "text/latex": [
       "$\\displaystyle 300.0$"
      ],
      "text/plain": [
       "300.00"
      ]
     },
     "metadata": {},
     "output_type": "display_data"
    },
    {
     "name": "stdout",
     "output_type": "stream",
     "text": [
      "omega2: 104.088271386036\n"
     ]
    },
    {
     "data": {
      "text/latex": [
       "$\\displaystyle 104.09$"
      ],
      "text/plain": [
       "104.09"
      ]
     },
     "metadata": {},
     "output_type": "display_data"
    },
    {
     "name": "stdout",
     "output_type": "stream",
     "text": [
      "omega3: 46.0441467620822\n"
     ]
    },
    {
     "data": {
      "text/latex": [
       "$\\displaystyle 46.044$"
      ],
      "text/plain": [
       "46.044"
      ]
     },
     "metadata": {},
     "output_type": "display_data"
    }
   ],
   "source": [
    "# dato de entrada\n",
    "omega1 = 300.0\n",
    "\n",
    "valores = {th1: theta1,\n",
    "           th2: theta2,\n",
    "           th3: theta3,\n",
    "           w1: omega1}\n",
    "\n",
    "# evaluación del dato de entrada\n",
    "dQ_eval = dQ.evalf(subs=valores)\n",
    "print(\"Modelo evaluado:\")\n",
    "display(Math(sp.latex(dQ_eval)))\n",
    "\n",
    "# soluciones\n",
    "sol = sp.solve(dQ_eval, (w2, w3))\n",
    "print(\"Solución\")\n",
    "display(Math(sp.latex(sol)))\n",
    "\n",
    "# Almacenar en memoria\n",
    "omega2 = sol[w2]\n",
    "omega3 = sol[w3]\n",
    "\n",
    "# Mostrar resultados\n",
    "print(\"omega1:\", omega1)\n",
    "display(sp.N(omega1, 5))\n",
    "print(\"omega2:\", omega2.evalf())\n",
    "display(sp.N(omega2, 5))\n",
    "print(\"omega3:\", omega3.evalf())\n",
    "display(sp.N(omega3, 5))"
   ]
  },
  {
   "cell_type": "markdown",
   "id": "e0bd3e15",
   "metadata": {},
   "source": [
    "### Modelo de aceleración"
   ]
  },
  {
   "cell_type": "code",
   "execution_count": null,
   "id": "2d2e2a6e",
   "metadata": {},
   "outputs": [
    {
     "name": "stdout",
     "output_type": "stream",
     "text": [
      "Modelo evaluado:\n"
     ]
    },
    {
     "data": {
      "text/latex": [
       "$\\displaystyle \\left[\\begin{matrix}- 30 \\alpha_{2} \\left(\\frac{5 \\sin{\\left(2 \\operatorname{atan}{\\left(\\frac{275 - 2 \\sqrt{13056 \\sqrt{3} + 108353}}{342 \\sqrt{3} + 1289} \\right)} \\right)}}{6} - \\frac{11}{30}\\right) - 1800.0 \\sqrt{3} + 60.0 + 3122.64814158108 \\sqrt{1 - \\left(\\frac{5 \\sin{\\left(2 \\operatorname{atan}{\\left(\\frac{275 - 2 \\sqrt{13056 \\sqrt{3} + 108353}}{342 \\sqrt{3} + 1289} \\right)} \\right)}}{6} - \\frac{11}{30}\\right)^{2}}\\\\- 30 \\alpha_{2} \\sqrt{1 - \\left(\\frac{5 \\sin{\\left(2 \\operatorname{atan}{\\left(\\frac{275 - 2 \\sqrt{13056 \\sqrt{3} + 108353}}{342 \\sqrt{3} + 1289} \\right)} \\right)}}{6} - \\frac{11}{30}\\right)^{2}} - 655.029014753603 - 60.0 \\sqrt{3} - 2602.2067846509 \\sin{\\left(2 \\operatorname{atan}{\\left(\\frac{275 - 2 \\sqrt{13056 \\sqrt{3} + 108353}}{342 \\sqrt{3} + 1289} \\right)} \\right)}\\\\0\\end{matrix}\\right] = \\left[\\begin{matrix}- 25 \\alpha_{3} \\sin{\\left(2 \\operatorname{atan}{\\left(\\frac{275 - 2 \\sqrt{13056 \\sqrt{3} + 108353}}{342 \\sqrt{3} + 1289} \\right)} \\right)} - 1151.10366905206 \\cos{\\left(2 \\operatorname{atan}{\\left(\\frac{275 - 2 \\sqrt{13056 \\sqrt{3} + 108353}}{342 \\sqrt{3} + 1289} \\right)} \\right)}\\\\25 \\alpha_{3} \\cos{\\left(2 \\operatorname{atan}{\\left(\\frac{275 - 2 \\sqrt{13056 \\sqrt{3} + 108353}}{342 \\sqrt{3} + 1289} \\right)} \\right)} - 1151.10366905206 \\sin{\\left(2 \\operatorname{atan}{\\left(\\frac{275 - 2 \\sqrt{13056 \\sqrt{3} + 108353}}{342 \\sqrt{3} + 1289} \\right)} \\right)}\\\\0\\end{matrix}\\right]$"
      ],
      "text/plain": [
       "<IPython.core.display.Math object>"
      ]
     },
     "metadata": {},
     "output_type": "display_data"
    },
    {
     "name": "stdout",
     "output_type": "stream",
     "text": [
      "Solución\n"
     ]
    },
    {
     "data": {
      "text/latex": [
       "$\\displaystyle \\left\\{ \\alpha_{2} : -3.46960904620127, \\  \\alpha_{3} : -1.53480489206926\\right\\}$"
      ],
      "text/plain": [
       "<IPython.core.display.Math object>"
      ]
     },
     "metadata": {},
     "output_type": "display_data"
    },
    {
     "name": "stdout",
     "output_type": "stream",
     "text": [
      "alpha1: -10.0\n"
     ]
    },
    {
     "data": {
      "text/latex": [
       "$\\displaystyle -10.0$"
      ],
      "text/plain": [
       "-10.000"
      ]
     },
     "metadata": {},
     "output_type": "display_data"
    },
    {
     "name": "stdout",
     "output_type": "stream",
     "text": [
      "alpha2: -3.46960904620127\n"
     ]
    },
    {
     "data": {
      "text/latex": [
       "$\\displaystyle -3.4696$"
      ],
      "text/plain": [
       "-3.4696"
      ]
     },
     "metadata": {},
     "output_type": "display_data"
    },
    {
     "name": "stdout",
     "output_type": "stream",
     "text": [
      "alpha3: -1.53480489206926\n"
     ]
    },
    {
     "data": {
      "text/latex": [
       "$\\displaystyle -1.5348$"
      ],
      "text/plain": [
       "-1.5348"
      ]
     },
     "metadata": {},
     "output_type": "display_data"
    }
   ],
   "source": [
    "# dato de entrada\n",
    "alpha1 = -10.0\n",
    "\n",
    "valores = {th1: theta1,\n",
    "           th2: theta2,\n",
    "           th3: theta3,\n",
    "           w1: omega1,\n",
    "           w2: omega2,\n",
    "           w3: omega3,\n",
    "           a1: alpha1}\n",
    "\n",
    "# evaluación del dato de entrada\n",
    "ddQ_eval = ddQ.evalf(subs=valores)\n",
    "print(\"Modelo evaluado:\")\n",
    "display(Math(sp.latex(ddQ_eval)))\n",
    "\n",
    "# soluciones\n",
    "sol = sp.solve(ddQ_eval, (a2, a3))\n",
    "print(\"Solución\")\n",
    "display(Math(sp.latex(sol)))\n",
    "\n",
    "# Almacenar en memoria\n",
    "alpha2 = sol[a2]\n",
    "alpha3 = sol[a3]\n",
    "\n",
    "# Mostrar resultados\n",
    "print(\"alpha1:\", alpha1)\n",
    "display(sp.N(alpha1, 5))\n",
    "print(\"alpha2:\", alpha2.evalf())\n",
    "display(sp.N(alpha2, 5))\n",
    "print(\"alpha3:\", alpha3.evalf())\n",
    "display(sp.N(alpha3, 5))"
   ]
  },
  {
   "cell_type": "markdown",
   "id": "3681ffb6",
   "metadata": {},
   "source": [
    "## 4) Visualizar resultados y configuración del mecanismo\n",
    "Para un instante determinado."
   ]
  },
  {
   "cell_type": "code",
   "execution_count": null,
   "id": "39cebd92",
   "metadata": {},
   "outputs": [],
   "source": [
    "# Almacenar los resultados obtenidos\n",
    "\n",
    "res = {th1: theta1,\n",
    "       th2: theta2,\n",
    "       th3: theta3,\n",
    "       w1: omega1,\n",
    "       w2: omega2,\n",
    "       w3: omega3,\n",
    "       a1: alpha1,\n",
    "       a2: alpha2,\n",
    "       a3: alpha3}"
   ]
  },
  {
   "cell_type": "markdown",
   "id": "6823c32e",
   "metadata": {},
   "source": [
    "### Modelo de posición"
   ]
  }
 ],
 "metadata": {
  "kernelspec": {
   "display_name": "IMT-211",
   "language": "python",
   "name": "python3"
  },
  "language_info": {
   "codemirror_mode": {
    "name": "ipython",
    "version": 3
   },
   "file_extension": ".py",
   "mimetype": "text/x-python",
   "name": "python",
   "nbconvert_exporter": "python",
   "pygments_lexer": "ipython3",
   "version": "3.11.5"
  }
 },
 "nbformat": 4,
 "nbformat_minor": 5
}
