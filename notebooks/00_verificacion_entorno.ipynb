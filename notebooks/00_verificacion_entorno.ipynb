{
 "cells": [
  {
   "cell_type": "markdown",
   "metadata": {},
   "source": [
    "# Verificación de entorno\n",
    "\n",
    "Ejecuta la celda siguiente para verificar librerías y versión de Python."
   ]
  },
  {
   "cell_type": "code",
   "execution_count": null,
   "metadata": {},
   "outputs": [],
   "source": [
    "import sys, numpy, scipy, sympy, pandas, matplotlib, networkx\n",
    "import pydy\n",
    "print('Python:', sys.version)\n",
    "print('numpy:', numpy.__version__)\n",
    "print('scipy:', scipy.__version__)\n",
    "print('sympy:', sympy.__version__)\n",
    "print('pandas:', pandas.__version__)\n",
    "print('matplotlib:', matplotlib.__version__)\n",
    "print('networkx:', networkx.__version__)\n",
    "print('pydy:', pydy.__version__)\n",
    "\n",
    "import matplotlib.pyplot as plt\n",
    "import numpy as np\n",
    "t = np.linspace(0, 2*np.pi, 200)\n",
    "x = np.cos(t)\n,\n",
    "y = np.sin(t)\n",
    "plt.plot(x, y)\n",
    "plt.axis('equal')\n",
    "plt.title('Círculo de prueba (plot)')\n",
    "plt.show()"
   ]
  }
 ],
 "metadata": {
  "kernelspec": {
   "display_name": "Python 3",
   "language": "python",
   "name": "python3"
  },
  "language_info": {
   "name": "python",
   "version": "3.11"
  }
 },
 "nbformat": 4,
 "nbformat_minor": 5
}