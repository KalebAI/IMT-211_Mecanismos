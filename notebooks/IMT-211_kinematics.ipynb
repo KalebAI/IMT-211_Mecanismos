{
 "cells": [
  {
   "cell_type": "markdown",
   "id": "12b36c8b",
   "metadata": {},
   "source": [
    "# IMT‑211 · Análisis Cinemático de Mecanismos de 4 Barras\n",
    "\n",
    "Cuaderno base para **Mecanismos**. Permite:\n",
    "- Definir un mecanismo **cuadrilátero articulado** (4‑bar) en el plano.\n",
    "- Simular el movimiento en el tiempo (posición, velocidad, aceleración) a partir de una entrada angular (crank).\n",
    "- **Graficar cualquier variable** relevante en función del tiempo.\n",
    "- **Animar** los eslabones y **trazar** la trayectoria de un punto de interés (similar a GeoGebra).\n",
    "\n",
    "> Dependencias recomendadas del entorno (construidas en tu *repo* y entorno virtual): `python >=3.11`, `numpy`, `matplotlib`. Opcional: `ipywidgets` (para controles interactivos), `pandas` (para exportar resultados).\n"
   ]
  },
  {
   "cell_type": "markdown",
   "id": "6c482691",
   "metadata": {},
   "source": [
    "## Importación de librerias"
   ]
  },
  {
   "cell_type": "code",
   "execution_count": 47,
   "id": "031b8abe",
   "metadata": {},
   "outputs": [],
   "source": [
    "import math\n",
    "import numpy as np\n",
    "import sympy as sp\n",
    "from IPython.display import Math, display\n",
    "import matplotlib.pyplot as plt\n",
    "from matplotlib.animation import FuncAnimation"
   ]
  },
  {
   "cell_type": "markdown",
   "id": "ee8be96c",
   "metadata": {},
   "source": [
    "\n",
    "## 1) Definición del mecanismo y del perfil de entrada\n",
    "\n",
    "### Eslabones:\n",
    "- `L0`: **Bancada**\n",
    "- `L1`: **Biela**\n",
    "- `L2`: **Acoplador**\n",
    "- `L3`: **Brazo balancín**\n",
    "\n",
    "### Juntas:\n",
    "- `O_1`: **L0,R,L1**\n",
    "- `A`:  **L1,R,L2**\n",
    "- `B`:  **L2,R,L3**\n",
    "- `O_4`: **L0,R,L3**\n",
    "\n",
    "### Punto de Interés:\n",
    "- `Y`: **Extremo del brazo del balancín**\n",
    "\n",
    "\n"
   ]
  },
  {
   "cell_type": "markdown",
   "id": "f9cd84e4",
   "metadata": {},
   "source": [
    "### Datos de entrada:"
   ]
  },
  {
   "cell_type": "code",
   "execution_count": 9,
   "id": "fd02e754",
   "metadata": {},
   "outputs": [],
   "source": [
    "# --- Longitudes de eslabones (unidades arbitrarias, p. ej., mm) ---\n",
    "l0x = -32  # logitud en x de bancada\n",
    "l0y = -5\n",
    "l1 = 12\n",
    "l2 = 30\n",
    "l3 = 25"
   ]
  },
  {
   "cell_type": "markdown",
   "id": "3c3af130",
   "metadata": {},
   "source": [
    "### Vectores posición"
   ]
  },
  {
   "cell_type": "code",
   "execution_count": 56,
   "id": "ee4d35b1",
   "metadata": {},
   "outputs": [
    {
     "name": "stdout",
     "output_type": "stream",
     "text": [
      "Vectores de posición relativa:\n",
      "Ra:\n"
     ]
    },
    {
     "data": {
      "text/latex": [
       "$\\displaystyle \\left[\\begin{matrix}12 \\cos{\\left(\\theta_{1} \\right)}\\\\12 \\sin{\\left(\\theta_{1} \\right)}\\\\0\\end{matrix}\\right]$"
      ],
      "text/plain": [
       "<IPython.core.display.Math object>"
      ]
     },
     "metadata": {},
     "output_type": "display_data"
    },
    {
     "name": "stdout",
     "output_type": "stream",
     "text": [
      "Rab:\n"
     ]
    },
    {
     "data": {
      "text/latex": [
       "$\\displaystyle \\left[\\begin{matrix}30 \\cos{\\left(\\theta_{2} \\right)}\\\\30 \\sin{\\left(\\theta_{2} \\right)}\\\\0\\end{matrix}\\right]$"
      ],
      "text/plain": [
       "<IPython.core.display.Math object>"
      ]
     },
     "metadata": {},
     "output_type": "display_data"
    },
    {
     "name": "stdout",
     "output_type": "stream",
     "text": [
      "Ro4b:\n"
     ]
    },
    {
     "data": {
      "text/latex": [
       "$\\displaystyle \\left[\\begin{matrix}25 \\cos{\\left(\\theta_{3} \\right)}\\\\25 \\sin{\\left(\\theta_{3} \\right)}\\\\0\\end{matrix}\\right]$"
      ],
      "text/plain": [
       "<IPython.core.display.Math object>"
      ]
     },
     "metadata": {},
     "output_type": "display_data"
    }
   ],
   "source": [
    "# --- Crear las variables angulares ---\n",
    "th1 = sp.symbols('theta_1')\n",
    "th2 = sp.symbols('theta_2')\n",
    "th3 = sp.symbols('theta_3')\n",
    "\n",
    "# --- definir mis verctores ---\n",
    "Ro4 = sp.Matrix([[l0x],\n",
    "                [l0y],\n",
    "                [0]])\n",
    "\n",
    "Ra = sp.Matrix([[l1*sp.cos(th1)],\n",
    "                [l1*sp.sin(th1)],\n",
    "                [0]])\n",
    "\n",
    "Rab = sp.Matrix([[l2*sp.cos(th2)],\n",
    "                 [l2*sp.sin(th2)],\n",
    "                 [0]])\n",
    "\n",
    "Ro4b = sp.Matrix([[l3*sp.cos(th3)],\n",
    "                  [l3*sp.sin(th3)],\n",
    "                  [0]])\n",
    "\n",
    "Rb = Ra + Rab\n",
    "\n",
    "print(\"Vectores de posición relativa:\")\n",
    "print(\"Ra:\")\n",
    "display(Math(sp.latex(Ra)))\n",
    "print(\"Rab:\")\n",
    "display(Math(sp.latex(Rab)))\n",
    "print(\"Ro4b:\")\n",
    "display(Math(sp.latex(Ro4b)))"
   ]
  },
  {
   "cell_type": "markdown",
   "id": "4f843203",
   "metadata": {},
   "source": [
    "### Vectores Velocidad"
   ]
  },
  {
   "cell_type": "code",
   "execution_count": 55,
   "id": "febb5805",
   "metadata": {},
   "outputs": [
    {
     "name": "stdout",
     "output_type": "stream",
     "text": [
      "Vectores de velocidad relativa:\n",
      "Va:\n"
     ]
    },
    {
     "data": {
      "text/latex": [
       "$\\displaystyle \\left[\\begin{matrix}- 12 \\omega_{1} \\sin{\\left(\\theta_{1} \\right)}\\\\12 \\omega_{1} \\cos{\\left(\\theta_{1} \\right)}\\\\0\\end{matrix}\\right]$"
      ],
      "text/plain": [
       "<IPython.core.display.Math object>"
      ]
     },
     "metadata": {},
     "output_type": "display_data"
    },
    {
     "name": "stdout",
     "output_type": "stream",
     "text": [
      "Vab:\n"
     ]
    },
    {
     "data": {
      "text/latex": [
       "$\\displaystyle \\left[\\begin{matrix}- 30 \\omega_{2} \\sin{\\left(\\theta_{2} \\right)}\\\\30 \\omega_{2} \\cos{\\left(\\theta_{2} \\right)}\\\\0\\end{matrix}\\right]$"
      ],
      "text/plain": [
       "<IPython.core.display.Math object>"
      ]
     },
     "metadata": {},
     "output_type": "display_data"
    },
    {
     "name": "stdout",
     "output_type": "stream",
     "text": [
      "Vo4b:\n"
     ]
    },
    {
     "data": {
      "text/latex": [
       "$\\displaystyle \\left[\\begin{matrix}- 25 \\omega_{3} \\sin{\\left(\\theta_{3} \\right)}\\\\25 \\omega_{3} \\cos{\\left(\\theta_{3} \\right)}\\\\0\\end{matrix}\\right]$"
      ],
      "text/plain": [
       "<IPython.core.display.Math object>"
      ]
     },
     "metadata": {},
     "output_type": "display_data"
    }
   ],
   "source": [
    "# --- Crear las variables de velocidades angulares ---\n",
    "w1 = sp.symbols('omega_1')\n",
    "w2 = sp.symbols('omega_2')\n",
    "w3 = sp.symbols('omega_3')\n",
    "\n",
    "# --- Crear los Vectores de velocidad --- (para angulares y escalares)\n",
    "W1 = sp.Matrix([[0],\n",
    "                [0],\n",
    "                [w1]])\n",
    "\n",
    "W2 = sp.Matrix([[0],\n",
    "                [0],\n",
    "                [w2]])\n",
    "\n",
    "W3 = sp.Matrix([[0],\n",
    "                [0],\n",
    "                [w3]])\n",
    "\n",
    "Va = W1.cross(Ra)\n",
    "\n",
    "Vab = W2.cross(Rab)\n",
    "\n",
    "Vo4b = W3.cross(Ro4b)\n",
    "\n",
    "Vb = Va + Vab\n",
    "# Vb = Vo4b = W3.cross(Ro4b) ## otra forma de obtener Vb\n",
    "\n",
    "print(\"Vectores de velocidad relativa:\")\n",
    "print(\"Va:\")\n",
    "display(Math(sp.latex(Va)))\n",
    "print(\"Vab:\")\n",
    "display(Math(sp.latex(Vab)))\n",
    "print(\"Vo4b:\")\n",
    "display(Math(sp.latex(Vo4b)))"
   ]
  },
  {
   "cell_type": "markdown",
   "id": "823319c8",
   "metadata": {},
   "source": [
    "### Vectores Aceleración"
   ]
  },
  {
   "cell_type": "code",
   "execution_count": 57,
   "id": "5597c808",
   "metadata": {},
   "outputs": [
    {
     "name": "stdout",
     "output_type": "stream",
     "text": [
      "Vectores de aceleración relativa:\n",
      "Aa:\n"
     ]
    },
    {
     "data": {
      "text/latex": [
       "$\\displaystyle \\left[\\begin{matrix}- 12 \\alpha_{1} \\sin{\\left(\\theta_{1} \\right)} - 12 \\omega_{1} \\cos{\\left(\\theta_{1} \\right)}\\\\12 \\alpha_{1} \\cos{\\left(\\theta_{1} \\right)} - 12 \\omega_{1} \\sin{\\left(\\theta_{1} \\right)}\\\\0\\end{matrix}\\right]$"
      ],
      "text/plain": [
       "<IPython.core.display.Math object>"
      ]
     },
     "metadata": {},
     "output_type": "display_data"
    },
    {
     "name": "stdout",
     "output_type": "stream",
     "text": [
      "Aab:\n"
     ]
    },
    {
     "data": {
      "text/latex": [
       "$\\displaystyle \\left[\\begin{matrix}- 30 \\alpha_{2} \\sin{\\left(\\theta_{2} \\right)} - 30 \\omega_{2} \\cos{\\left(\\theta_{2} \\right)}\\\\30 \\alpha_{2} \\cos{\\left(\\theta_{2} \\right)} - 30 \\omega_{2} \\sin{\\left(\\theta_{2} \\right)}\\\\0\\end{matrix}\\right]$"
      ],
      "text/plain": [
       "<IPython.core.display.Math object>"
      ]
     },
     "metadata": {},
     "output_type": "display_data"
    },
    {
     "name": "stdout",
     "output_type": "stream",
     "text": [
      "Ao4b:\n"
     ]
    },
    {
     "data": {
      "text/latex": [
       "$\\displaystyle \\left[\\begin{matrix}- 25 \\alpha_{3} \\sin{\\left(\\theta_{3} \\right)} - 25 \\omega_{3} \\cos{\\left(\\theta_{3} \\right)}\\\\25 \\alpha_{3} \\cos{\\left(\\theta_{3} \\right)} - 25 \\omega_{3} \\sin{\\left(\\theta_{3} \\right)}\\\\0\\end{matrix}\\right]$"
      ],
      "text/plain": [
       "<IPython.core.display.Math object>"
      ]
     },
     "metadata": {},
     "output_type": "display_data"
    }
   ],
   "source": [
    "# --- Crear las variables de aceleraciones angulares ---\n",
    "a1 = sp.symbols('alpha_1')\n",
    "a2 = sp.symbols('alpha_2')\n",
    "a3 = sp.symbols('alpha_3')\n",
    "\n",
    "# --- Crear los Vectores de Aceleración --- (para angulares y escalares)\n",
    "A1 = sp.Matrix([[0],\n",
    "                [0],\n",
    "                [a1]])\n",
    "\n",
    "A2 = sp.Matrix([[0],\n",
    "                [0],\n",
    "                [a2]])\n",
    "\n",
    "A3 = sp.Matrix([[0],\n",
    "                [0],\n",
    "                [a3]])\n",
    "\n",
    "Aa_T = A1.cross(Ra)\n",
    "Aa_N = -w1*Ra\n",
    "Aa = Aa_T + Aa_N # + Aa_C ## -> la aceleración de Coriolis/ movimiento linean y rotacional\n",
    "\n",
    "Aab_T = A2.cross(Rab)\n",
    "Aab_N = -w2*Rab\n",
    "Aab = Aab_T + Aab_N\n",
    "\n",
    "Ab = Aa + Aab\n",
    "\n",
    "Ao4b_T = A3.cross(Ro4b)\n",
    "Ao4b_N = -w3*Ro4b\n",
    "Ao4b = Ao4b_T + Ao4b_N\n",
    "\n",
    "#Ab = Ao4b = Ao4b_T + Ao4b_N ## otra forma de obtener la aceleración en B\n",
    "\n",
    "print(\"Vectores de aceleración relativa:\")\n",
    "print(\"Aa:\")\n",
    "display(Math(sp.latex(Aa)))\n",
    "print(\"Aab:\")\n",
    "display(Math(sp.latex(Aab)))\n",
    "print(\"Ao4b:\")\n",
    "display(Math(sp.latex(Ao4b)))"
   ]
  },
  {
   "cell_type": "markdown",
   "id": "54fe7fd3",
   "metadata": {},
   "source": [
    "## 2) Escribir el modelo matemático"
   ]
  },
  {
   "cell_type": "code",
   "execution_count": 58,
   "id": "98a2d15c",
   "metadata": {},
   "outputs": [
    {
     "name": "stdout",
     "output_type": "stream",
     "text": [
      "\n",
      " Modelo de posición:\n"
     ]
    },
    {
     "data": {
      "text/latex": [
       "$\\displaystyle \\left[\\begin{matrix}12 \\cos{\\left(\\theta_{1} \\right)} + 30 \\cos{\\left(\\theta_{2} \\right)}\\\\12 \\sin{\\left(\\theta_{1} \\right)} + 30 \\sin{\\left(\\theta_{2} \\right)}\\\\0\\end{matrix}\\right] = \\left[\\begin{matrix}25 \\cos{\\left(\\theta_{3} \\right)} - 32\\\\25 \\sin{\\left(\\theta_{3} \\right)} - 5\\\\0\\end{matrix}\\right]$"
      ],
      "text/plain": [
       "<IPython.core.display.Math object>"
      ]
     },
     "metadata": {},
     "output_type": "display_data"
    },
    {
     "name": "stdout",
     "output_type": "stream",
     "text": [
      "\n",
      " Modelo de velocidad:\n"
     ]
    },
    {
     "data": {
      "text/latex": [
       "$\\displaystyle \\left[\\begin{matrix}- 12 \\omega_{1} \\sin{\\left(\\theta_{1} \\right)} - 30 \\omega_{2} \\sin{\\left(\\theta_{2} \\right)}\\\\12 \\omega_{1} \\cos{\\left(\\theta_{1} \\right)} + 30 \\omega_{2} \\cos{\\left(\\theta_{2} \\right)}\\\\0\\end{matrix}\\right] = \\left[\\begin{matrix}- 25 \\omega_{3} \\sin{\\left(\\theta_{3} \\right)}\\\\25 \\omega_{3} \\cos{\\left(\\theta_{3} \\right)}\\\\0\\end{matrix}\\right]$"
      ],
      "text/plain": [
       "<IPython.core.display.Math object>"
      ]
     },
     "metadata": {},
     "output_type": "display_data"
    },
    {
     "name": "stdout",
     "output_type": "stream",
     "text": [
      "\n",
      " Modelo de aceleración:\n"
     ]
    },
    {
     "data": {
      "text/latex": [
       "$\\displaystyle \\left[\\begin{matrix}- 12 \\alpha_{1} \\sin{\\left(\\theta_{1} \\right)} - 30 \\alpha_{2} \\sin{\\left(\\theta_{2} \\right)} - 12 \\omega_{1} \\cos{\\left(\\theta_{1} \\right)} - 30 \\omega_{2} \\cos{\\left(\\theta_{2} \\right)}\\\\12 \\alpha_{1} \\cos{\\left(\\theta_{1} \\right)} + 30 \\alpha_{2} \\cos{\\left(\\theta_{2} \\right)} - 12 \\omega_{1} \\sin{\\left(\\theta_{1} \\right)} - 30 \\omega_{2} \\sin{\\left(\\theta_{2} \\right)}\\\\0\\end{matrix}\\right] = \\left[\\begin{matrix}- 25 \\alpha_{3} \\sin{\\left(\\theta_{3} \\right)} - 25 \\omega_{3} \\cos{\\left(\\theta_{3} \\right)}\\\\25 \\alpha_{3} \\cos{\\left(\\theta_{3} \\right)} - 25 \\omega_{3} \\sin{\\left(\\theta_{3} \\right)}\\\\0\\end{matrix}\\right]$"
      ],
      "text/plain": [
       "<IPython.core.display.Math object>"
      ]
     },
     "metadata": {},
     "output_type": "display_data"
    }
   ],
   "source": [
    "# Construir ecuaciones\n",
    "Q = sp.Eq(Ra + Rab, Ro4 + Ro4b)\n",
    "\n",
    "dQ = sp.Eq(Va + Vab, Vo4b)\n",
    "\n",
    "ddQ = sp.Eq(Aa + Aab, Ao4b)\n",
    "\n",
    "print(\"\\n Modelo de posición:\")\n",
    "display(Math(sp.latex(Q)))\n",
    "print(\"\\n Modelo de velocidad:\")\n",
    "display(Math(sp.latex(dQ)))\n",
    "print(\"\\n Modelo de aceleración:\")\n",
    "display(Math(sp.latex(ddQ)))\n"
   ]
  },
  {
   "cell_type": "markdown",
   "id": "47019982",
   "metadata": {},
   "source": [
    "## 3) Resolución del modelo\n",
    "Para un instante determinado, un parámetro de entrada."
   ]
  },
  {
   "cell_type": "markdown",
   "id": "2e9560c9",
   "metadata": {},
   "source": [
    "### Modelo de posición"
   ]
  },
  {
   "cell_type": "code",
   "execution_count": 93,
   "id": "47971030",
   "metadata": {},
   "outputs": [
    {
     "name": "stdout",
     "output_type": "stream",
     "text": [
      "Modelo evaluado:\n"
     ]
    },
    {
     "data": {
      "text/latex": [
       "$\\displaystyle \\left[\\begin{matrix}30 \\cos{\\left(\\theta_{2} \\right)} + 6 \\sqrt{3}\\\\30 \\sin{\\left(\\theta_{2} \\right)} + 6\\\\0\\end{matrix}\\right] = \\left[\\begin{matrix}25 \\cos{\\left(\\theta_{3} \\right)} - 32\\\\25 \\sin{\\left(\\theta_{3} \\right)} - 5\\\\0\\end{matrix}\\right]$"
      ],
      "text/plain": [
       "<IPython.core.display.Math object>"
      ]
     },
     "metadata": {},
     "output_type": "display_data"
    },
    {
     "name": "stdout",
     "output_type": "stream",
     "text": [
      "Soluciones posibles:\n"
     ]
    },
    {
     "data": {
      "text/latex": [
       "$\\displaystyle \\left[ \\left( \\pi - \\operatorname{asin}{\\left(\\frac{5 \\sin{\\left(2 \\operatorname{atan}{\\left(\\frac{275 - 2 \\sqrt{13056 \\sqrt{3} + 108353}}{342 \\sqrt{3} + 1289} \\right)} \\right)}}{6} - \\frac{11}{30} \\right)}, \\  2 \\operatorname{atan}{\\left(\\frac{275 - 2 \\sqrt{13056 \\sqrt{3} + 108353}}{342 \\sqrt{3} + 1289} \\right)}\\right), \\  \\left( \\operatorname{asin}{\\left(\\frac{11}{30} - \\frac{5 \\sin{\\left(2 \\operatorname{atan}{\\left(\\frac{275 + 2 \\sqrt{13056 \\sqrt{3} + 108353}}{342 \\sqrt{3} + 1289} \\right)} \\right)}}{6} \\right)} + \\pi, \\  2 \\operatorname{atan}{\\left(\\frac{275 + 2 \\sqrt{13056 \\sqrt{3} + 108353}}{342 \\sqrt{3} + 1289} \\right)}\\right)\\right]$"
      ],
      "text/plain": [
       "<IPython.core.display.Math object>"
      ]
     },
     "metadata": {},
     "output_type": "display_data"
    },
    {
     "name": "stdout",
     "output_type": "stream",
     "text": [
      "theta1: 0.523598775598299\n"
     ]
    },
    {
     "data": {
      "text/latex": [
       "$\\displaystyle 0.5236$"
      ],
      "text/plain": [
       "0.52360"
      ]
     },
     "metadata": {},
     "output_type": "display_data"
    },
    {
     "name": "stdout",
     "output_type": "stream",
     "text": [
      "theta2: 3.97888621355040\n"
     ]
    },
    {
     "data": {
      "text/latex": [
       "$\\displaystyle 3.9789$"
      ],
      "text/plain": [
       "3.9789"
      ]
     },
     "metadata": {},
     "output_type": "display_data"
    },
    {
     "name": "stdout",
     "output_type": "stream",
     "text": [
      "theta3: -0.468334483520582\n"
     ]
    },
    {
     "data": {
      "text/latex": [
       "$\\displaystyle -0.46833$"
      ],
      "text/plain": [
       "-0.46833"
      ]
     },
     "metadata": {},
     "output_type": "display_data"
    }
   ],
   "source": [
    "# dato de entrada\n",
    "theta1 = sp.rad(30)\n",
    "\n",
    "valores = {th1: theta1}\n",
    "\n",
    "# evaluación del dato de entrada\n",
    "Q_eval = Q.evalf(subs=valores)\n",
    "print(\"Modelo evaluado:\")\n",
    "display(Math(sp.latex(Q_eval)))\n",
    "\n",
    "# soluciones\n",
    "sol = sp.solve(Q_eval, (th2, th3))\n",
    "print(\"Soluciones posibles:\")\n",
    "display(Math(sp.latex(sol)))\n",
    "\n",
    "# selección de soluciones\n",
    "theta2 = sol[0][0]\n",
    "theta3 = sol[0][1]\n",
    "\n",
    "# Mostrar resultados\n",
    "print(\"theta1:\", theta1.evalf())\n",
    "display(sp.N(theta1, 5))\n",
    "print(\"theta2:\", theta2.evalf())\n",
    "display(sp.N(theta2, 5))\n",
    "print(\"theta3:\", theta3.evalf())\n",
    "display(sp.N(theta3, 5))\n"
   ]
  },
  {
   "cell_type": "markdown",
   "id": "1dad1703",
   "metadata": {},
   "source": [
    "### Modelo de velocidad"
   ]
  },
  {
   "cell_type": "code",
   "execution_count": 96,
   "id": "61903274",
   "metadata": {},
   "outputs": [
    {
     "name": "stdout",
     "output_type": "stream",
     "text": [
      "Modelo evaluado:\n"
     ]
    },
    {
     "data": {
      "text/latex": [
       "$\\displaystyle \\left[\\begin{matrix}- 30 \\omega_{2} \\left(\\frac{5 \\sin{\\left(2 \\operatorname{atan}{\\left(\\frac{275 - 2 \\sqrt{13056 \\sqrt{3} + 108353}}{342 \\sqrt{3} + 1289} \\right)} \\right)}}{6} - \\frac{11}{30}\\right) - 1800.0\\\\- 30 \\omega_{2} \\sqrt{1 - \\left(\\frac{5 \\sin{\\left(2 \\operatorname{atan}{\\left(\\frac{275 - 2 \\sqrt{13056 \\sqrt{3} + 108353}}{342 \\sqrt{3} + 1289} \\right)} \\right)}}{6} - \\frac{11}{30}\\right)^{2}} + 1800.0 \\sqrt{3}\\\\0\\end{matrix}\\right] = \\left[\\begin{matrix}- 25 \\omega_{3} \\sin{\\left(2 \\operatorname{atan}{\\left(\\frac{275 - 2 \\sqrt{13056 \\sqrt{3} + 108353}}{342 \\sqrt{3} + 1289} \\right)} \\right)}\\\\25 \\omega_{3} \\cos{\\left(2 \\operatorname{atan}{\\left(\\frac{275 - 2 \\sqrt{13056 \\sqrt{3} + 108353}}{342 \\sqrt{3} + 1289} \\right)} \\right)}\\\\0\\end{matrix}\\right]$"
      ],
      "text/plain": [
       "<IPython.core.display.Math object>"
      ]
     },
     "metadata": {},
     "output_type": "display_data"
    },
    {
     "name": "stdout",
     "output_type": "stream",
     "text": [
      "Solución\n"
     ]
    },
    {
     "data": {
      "text/latex": [
       "$\\displaystyle \\left\\{ \\omega_{2} : 104.088271386036, \\  \\omega_{3} : 46.0441467620822\\right\\}$"
      ],
      "text/plain": [
       "<IPython.core.display.Math object>"
      ]
     },
     "metadata": {},
     "output_type": "display_data"
    },
    {
     "name": "stdout",
     "output_type": "stream",
     "text": [
      "omega1: 300.0\n"
     ]
    },
    {
     "data": {
      "text/latex": [
       "$\\displaystyle 300.0$"
      ],
      "text/plain": [
       "300.00"
      ]
     },
     "metadata": {},
     "output_type": "display_data"
    },
    {
     "name": "stdout",
     "output_type": "stream",
     "text": [
      "omega2: 104.088271386036\n"
     ]
    },
    {
     "data": {
      "text/latex": [
       "$\\displaystyle 104.09$"
      ],
      "text/plain": [
       "104.09"
      ]
     },
     "metadata": {},
     "output_type": "display_data"
    },
    {
     "name": "stdout",
     "output_type": "stream",
     "text": [
      "omega3: 46.0441467620822\n"
     ]
    },
    {
     "data": {
      "text/latex": [
       "$\\displaystyle 46.044$"
      ],
      "text/plain": [
       "46.044"
      ]
     },
     "metadata": {},
     "output_type": "display_data"
    }
   ],
   "source": [
    "# dato de entrada\n",
    "omega1 = 300.0\n",
    "\n",
    "valores = {th1: theta1,\n",
    "           th2: theta2,\n",
    "           th3: theta3,\n",
    "           w1: omega1}\n",
    "\n",
    "# evaluación del dato de entrada\n",
    "dQ_eval = dQ.evalf(subs=valores)\n",
    "print(\"Modelo evaluado:\")\n",
    "display(Math(sp.latex(dQ_eval)))\n",
    "\n",
    "# soluciones\n",
    "sol = sp.solve(dQ_eval, (w2, w3))\n",
    "print(\"Solución\")\n",
    "display(Math(sp.latex(sol)))\n",
    "\n",
    "# Almacenar en memoria\n",
    "omega2 = sol[w2]\n",
    "omega3 = sol[w3]\n",
    "\n",
    "# Mostrar resultados\n",
    "print(\"omega1:\", omega1)\n",
    "display(sp.N(omega1, 5))\n",
    "print(\"omega2:\", omega2.evalf())\n",
    "display(sp.N(omega2, 5))\n",
    "print(\"omega3:\", omega3.evalf())\n",
    "display(sp.N(omega3, 5))"
   ]
  },
  {
   "cell_type": "markdown",
   "id": "e0bd3e15",
   "metadata": {},
   "source": [
    "### Modelo de aceleración"
   ]
  },
  {
   "cell_type": "code",
   "execution_count": 98,
   "id": "2d2e2a6e",
   "metadata": {},
   "outputs": [
    {
     "name": "stdout",
     "output_type": "stream",
     "text": [
      "Modelo evaluado:\n"
     ]
    },
    {
     "data": {
      "text/latex": [
       "$\\displaystyle \\left[\\begin{matrix}- 30 \\alpha_{2} \\left(\\frac{5 \\sin{\\left(2 \\operatorname{atan}{\\left(\\frac{275 - 2 \\sqrt{13056 \\sqrt{3} + 108353}}{342 \\sqrt{3} + 1289} \\right)} \\right)}}{6} - \\frac{11}{30}\\right) - 1800.0 \\sqrt{3} + 60.0 + 3122.64814158108 \\sqrt{1 - \\left(\\frac{5 \\sin{\\left(2 \\operatorname{atan}{\\left(\\frac{275 - 2 \\sqrt{13056 \\sqrt{3} + 108353}}{342 \\sqrt{3} + 1289} \\right)} \\right)}}{6} - \\frac{11}{30}\\right)^{2}}\\\\- 30 \\alpha_{2} \\sqrt{1 - \\left(\\frac{5 \\sin{\\left(2 \\operatorname{atan}{\\left(\\frac{275 - 2 \\sqrt{13056 \\sqrt{3} + 108353}}{342 \\sqrt{3} + 1289} \\right)} \\right)}}{6} - \\frac{11}{30}\\right)^{2}} - 655.029014753603 - 60.0 \\sqrt{3} - 2602.2067846509 \\sin{\\left(2 \\operatorname{atan}{\\left(\\frac{275 - 2 \\sqrt{13056 \\sqrt{3} + 108353}}{342 \\sqrt{3} + 1289} \\right)} \\right)}\\\\0\\end{matrix}\\right] = \\left[\\begin{matrix}- 25 \\alpha_{3} \\sin{\\left(2 \\operatorname{atan}{\\left(\\frac{275 - 2 \\sqrt{13056 \\sqrt{3} + 108353}}{342 \\sqrt{3} + 1289} \\right)} \\right)} - 1151.10366905206 \\cos{\\left(2 \\operatorname{atan}{\\left(\\frac{275 - 2 \\sqrt{13056 \\sqrt{3} + 108353}}{342 \\sqrt{3} + 1289} \\right)} \\right)}\\\\25 \\alpha_{3} \\cos{\\left(2 \\operatorname{atan}{\\left(\\frac{275 - 2 \\sqrt{13056 \\sqrt{3} + 108353}}{342 \\sqrt{3} + 1289} \\right)} \\right)} - 1151.10366905206 \\sin{\\left(2 \\operatorname{atan}{\\left(\\frac{275 - 2 \\sqrt{13056 \\sqrt{3} + 108353}}{342 \\sqrt{3} + 1289} \\right)} \\right)}\\\\0\\end{matrix}\\right]$"
      ],
      "text/plain": [
       "<IPython.core.display.Math object>"
      ]
     },
     "metadata": {},
     "output_type": "display_data"
    },
    {
     "name": "stdout",
     "output_type": "stream",
     "text": [
      "Solución\n"
     ]
    },
    {
     "data": {
      "text/latex": [
       "$\\displaystyle \\left\\{ \\alpha_{2} : -3.46960904620127, \\  \\alpha_{3} : -1.53480489206926\\right\\}$"
      ],
      "text/plain": [
       "<IPython.core.display.Math object>"
      ]
     },
     "metadata": {},
     "output_type": "display_data"
    },
    {
     "name": "stdout",
     "output_type": "stream",
     "text": [
      "alpha1: -10.0\n"
     ]
    },
    {
     "data": {
      "text/latex": [
       "$\\displaystyle -10.0$"
      ],
      "text/plain": [
       "-10.000"
      ]
     },
     "metadata": {},
     "output_type": "display_data"
    },
    {
     "name": "stdout",
     "output_type": "stream",
     "text": [
      "alpha2: -3.46960904620127\n"
     ]
    },
    {
     "data": {
      "text/latex": [
       "$\\displaystyle -3.4696$"
      ],
      "text/plain": [
       "-3.4696"
      ]
     },
     "metadata": {},
     "output_type": "display_data"
    },
    {
     "name": "stdout",
     "output_type": "stream",
     "text": [
      "alpha3: -1.53480489206926\n"
     ]
    },
    {
     "data": {
      "text/latex": [
       "$\\displaystyle -1.5348$"
      ],
      "text/plain": [
       "-1.5348"
      ]
     },
     "metadata": {},
     "output_type": "display_data"
    }
   ],
   "source": [
    "# dato de entrada\n",
    "alpha1 = -10.0\n",
    "\n",
    "valores = {th1: theta1,\n",
    "           th2: theta2,\n",
    "           th3: theta3,\n",
    "           w1: omega1,\n",
    "           w2: omega2,\n",
    "           w3: omega3,\n",
    "           a1: alpha1}\n",
    "\n",
    "# evaluación del dato de entrada\n",
    "ddQ_eval = ddQ.evalf(subs=valores)\n",
    "print(\"Modelo evaluado:\")\n",
    "display(Math(sp.latex(ddQ_eval)))\n",
    "\n",
    "# soluciones\n",
    "sol = sp.solve(ddQ_eval, (a2, a3))\n",
    "print(\"Solución\")\n",
    "display(Math(sp.latex(sol)))\n",
    "\n",
    "# Almacenar en memoria\n",
    "alpha2 = sol[a2]\n",
    "alpha3 = sol[a3]\n",
    "\n",
    "# Mostrar resultados\n",
    "print(\"alpha1:\", alpha1)\n",
    "display(sp.N(alpha1, 5))\n",
    "print(\"alpha2:\", alpha2.evalf())\n",
    "display(sp.N(alpha2, 5))\n",
    "print(\"alpha3:\", alpha3.evalf())\n",
    "display(sp.N(alpha3, 5))"
   ]
  }
 ],
 "metadata": {
  "kernelspec": {
   "display_name": "meca",
   "language": "python",
   "name": "python3"
  },
  "language_info": {
   "codemirror_mode": {
    "name": "ipython",
    "version": 3
   },
   "file_extension": ".py",
   "mimetype": "text/x-python",
   "name": "python",
   "nbconvert_exporter": "python",
   "pygments_lexer": "ipython3",
   "version": "3.11.13"
  }
 },
 "nbformat": 4,
 "nbformat_minor": 5
}
